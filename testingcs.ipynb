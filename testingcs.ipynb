{
 "cells": [
  {
   "cell_type": "code",
   "execution_count": 1,
   "metadata": {
    "dotnet_interactive": {
     "language": "csharp"
    },
    "polyglot_notebook": {
     "kernelName": "csharp"
    },
    "vscode": {
     "languageId": "polyglot-notebook"
    }
   },
   "outputs": [
    {
     "ename": "Error",
     "evalue": "(2,17): error CS0234: The type or namespace name 'Data' does not exist in the namespace 'Microsoft' (are you missing an assembly reference?)\r\n(9,9): error CS0246: The type or namespace name 'DataFrame' could not be found (are you missing a using directive or an assembly reference?)\r\n(9,28): error CS0246: The type or namespace name 'DataFrame' could not be found (are you missing a using directive or an assembly reference?)\r\n(17,34): error CS0246: The type or namespace name 'PrimitiveDataFrameColumn<>' could not be found (are you missing a using directive or an assembly reference?)\r\n(25,54): error CS0246: The type or namespace name 'PrimitiveDataFrameColumn<>' could not be found (are you missing a using directive or an assembly reference?)",
     "output_type": "error",
     "traceback": [
      "(2,17): error CS0234: The type or namespace name 'Data' does not exist in the namespace 'Microsoft' (are you missing an assembly reference?)\r\n",
      "(9,9): error CS0246: The type or namespace name 'DataFrame' could not be found (are you missing a using directive or an assembly reference?)\r\n",
      "(9,28): error CS0246: The type or namespace name 'DataFrame' could not be found (are you missing a using directive or an assembly reference?)\r\n",
      "(17,34): error CS0246: The type or namespace name 'PrimitiveDataFrameColumn<>' could not be found (are you missing a using directive or an assembly reference?)\r\n",
      "(25,54): error CS0246: The type or namespace name 'PrimitiveDataFrameColumn<>' could not be found (are you missing a using directive or an assembly reference?)"
     ]
    }
   ],
   "source": [
    "using System;\n",
    "using Microsoft.Data.Analysis;\n",
    "\n",
    "class Program\n",
    "{\n",
    "    static void Main(string[] args)\n",
    "    {\n",
    "        // Create a sample DataFrame\n",
    "        DataFrame df = new DataFrame();\n",
    "        DateTime[] dateTimes = new DateTime[]\n",
    "        {\n",
    "            new DateTime(2023, 7, 25, 14, 30, 0),\n",
    "            new DateTime(2023, 7, 26, 9, 45, 0),\n",
    "            new DateTime(2023, 7, 27, 18, 0, 0)\n",
    "        };\n",
    "\n",
    "        var dateTimeColumn = new PrimitiveDataFrameColumn<DateTime>(\"DateColumn\", dateTimes);\n",
    "        df.Columns.Add(dateTimeColumn);\n",
    "\n",
    "        // Display original DataFrame\n",
    "        Console.WriteLine(\"Original DataFrame:\");\n",
    "        Console.WriteLine(df);\n",
    "\n",
    "        // Create a new column 'daily_date' with only the date part\n",
    "        var dateColumn = df.Columns[\"DateColumn\"] as PrimitiveDataFrameColumn<DateTime>;\n",
    "\n",
    "        var dailyDateColumn = dateColumn.Apply((DateTime dt) => dt.Date);\n",
    "        dailyDateColumn.SetName(\"daily_date\");\n",
    "\n",
    "        // Add the new column to the DataFrame\n",
    "        df.Columns.Add(dailyDateColumn);\n",
    "\n",
    "        // Display modified DataFrame\n",
    "        Console.WriteLine(\"Modified DataFrame:\");\n",
    "        Console.WriteLine(df);\n",
    "    }\n",
    "}\n"
   ]
  }
 ],
 "metadata": {
  "kernelspec": {
   "display_name": ".NET (C#)",
   "language": "C#",
   "name": ".net-csharp"
  },
  "language_info": {
   "name": "python"
  },
  "polyglot_notebook": {
   "kernelInfo": {
    "defaultKernelName": "csharp",
    "items": [
     {
      "aliases": [],
      "name": "csharp"
     }
    ]
   }
  }
 },
 "nbformat": 4,
 "nbformat_minor": 2
}
