{
 "cells": [
  {
   "cell_type": "code",
   "execution_count": null,
   "metadata": {
    "dotnet_interactive": {
     "language": "csharp"
    },
    "polyglot_notebook": {
     "kernelName": "csharp"
    },
    "vscode": {
     "languageId": "polyglot-notebook"
    }
   },
   "outputs": [],
   "source": [
    "using System;\n",
    "using System.Net.Http;\n",
    "using System.Threading.Tasks;\n",
    "using Newtonsoft.Json;\n",
    "using System.Data;\n",
    "using System.Globalization;\n",
    "using Newtonsoft.Json.Linq;\n",
    "\n",
    "private HttpClient client = new HttpClient();\n",
    "private string dailyCookie = \"76561199704981720%7C%7CeyAidHlwIjogIkpXVCIsICJhbGciOiAiRWREU0EiIH0.eyAiaXNzIjogInI6MTcwQl8yNDkzRTBDMF80QkU4NSIsICJzdWIiOiAiNzY1NjExOTk3MDQ5ODE3MjAiLCAiYXVkIjogWyAid2ViOmNvbW11bml0eSIgXSwgImV4cCI6IDE3MjAxMzE1NjAsICJuYmYiOiAxNzExNDAzNTgxLCAiaWF0IjogMTcyMDA0MzU4MSwgImp0aSI6ICIwRjJEXzI0QTRFNzdBXzcxQjZEIiwgIm9hdCI6IDE3MTgzNjI3ODYsICJydF9leHAiOiAxNzM2NjE4ODA2LCAicGVyIjogMCwgImlwX3N1YmplY3QiOiAiODEuMTA1LjIwMS41NyIsICJpcF9jb25maXJtZXIiOiAiOTAuMTk3Ljc5LjEzMyIgfQ.2BmYp35F3FZEFO-NBsQZwjUrMMRx0Um6PCIKSMHety7PoqES1h-KFjRhtnFk4GWJJLgtS4oPzz4qkemRnSICDQ\"; // Replace with actual cookie string\n",
    "\n",
    "client.DefaultRequestHeaders.Add(\"Cookie\", $\"steamLoginSecure={dailyCookie}\");\n",
    "public async Task<String> FetchItemFromApi(string item)\n",
    "{\n",
    "    string url = \"https://steamcommunity.com/market/pricehistory/\";\n",
    "    var parameters = new Dictionary<string, string>\n",
    "    {\n",
    "        [\"country\"] = \"US\",\n",
    "        [\"currency\"] = \"1\",\n",
    "        [\"appid\"] = \"730\",\n",
    "        [\"market_hash_name\"] = item\n",
    "    };\n",
    "\n",
    "    var response = await client.GetAsync(url + \"?\" + await new FormUrlEncodedContent(parameters).ReadAsStringAsync());\n",
    "\n",
    "    if (response.IsSuccessStatusCode)\n",
    "    {\n",
    "        var json = await response.Content.ReadAsStringAsync();\n",
    "        // var jsonData = JObject.Parse(json);\n",
    "        // var prices = jsonData[\"prices\"] as JArray;\n",
    "\n",
    "        return json;\n",
    "        //DataTable priceHistoryTable = new DataTable();\n",
    "        //priceHistoryTable.Columns.Add(\"Date\", typeof(DateTime));\n",
    "        //priceHistoryTable.Columns.Add(\"PriceUSD\", typeof(decimal));\n",
    "        //priceHistoryTable.Columns.Add(\"Volume\", typeof(int));\n",
    "\n",
    "        //foreach (var entry in prices)\n",
    "        //{\n",
    "        //    DataRow row = priceHistoryTable.NewRow();\n",
    "        //    row[\"Date\"] = DateTime.ParseExact(entry[0].ToString(), \"MMM dd yyyy HH:mm:ss\", CultureInfo.InvariantCulture);\n",
    "        //    row[\"PriceUSD\"] = decimal.Parse(entry[1].ToString(), CultureInfo.InvariantCulture);\n",
    "        //    row[\"Volume\"] = int.Parse(entry[2].ToString(), CultureInfo.InvariantCulture);\n",
    "        //    priceHistoryTable.Rows.Add(row);\n",
    "        //}\n",
    "\n",
    "        //return priceHistoryTable;\n",
    "    }\n",
    "    else\n",
    "    {\n",
    "        Console.WriteLine($\"Failed to fetch data for {item}. Status code: {response.StatusCode}\");\n",
    "        return null;\n",
    "    }\n",
    "}\n",
    "\n",
    "String priceHistory = await FetchItemFromApi(\"AK-47 | Redline (Field-Tested)\");\n"
   ]
  },
  {
   "cell_type": "code",
   "execution_count": null,
   "metadata": {
    "dotnet_interactive": {
     "language": "html"
    },
    "polyglot_notebook": {
     "kernelName": "html"
    },
    "vscode": {
     "languageId": "polyglot-notebook"
    }
   },
   "outputs": [],
   "source": []
  },
  {
   "cell_type": "code",
   "execution_count": null,
   "metadata": {
    "dotnet_interactive": {
     "language": "html"
    },
    "polyglot_notebook": {
     "kernelName": "html"
    },
    "vscode": {
     "languageId": "polyglot-notebook"
    }
   },
   "outputs": [],
   "source": [
    "<div id=\"myPlot\" style=\"width: 800px; height: 600px;\"></div>\n"
   ]
  }
 ],
 "metadata": {
  "kernelspec": {
   "display_name": ".NET (C#)",
   "language": "C#",
   "name": ".net-csharp"
  },
  "language_info": {
   "name": "python"
  },
  "polyglot_notebook": {
   "kernelInfo": {
    "defaultKernelName": "csharp",
    "items": [
     {
      "aliases": [],
      "name": "csharp"
     }
    ]
   }
  }
 },
 "nbformat": 4,
 "nbformat_minor": 2
}
