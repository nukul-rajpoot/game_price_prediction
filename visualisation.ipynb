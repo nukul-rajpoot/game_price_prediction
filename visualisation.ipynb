{
 "cells": [
  {
   "cell_type": "markdown",
   "metadata": {},
   "source": [
    "### Import and visualise AML_dataset"
   ]
  },
  {
   "cell_type": "code",
   "execution_count": 4,
   "metadata": {},
   "outputs": [
    {
     "name": "stdout",
     "output_type": "stream",
     "text": [
      "   public_reference   mileage reg_code standard_colour standard_make  \\\n",
      "0      2.020060e+14       0.0      NaN            Grey         Volvo   \n",
      "1      2.020070e+14  108230.0       61            Blue        Jaguar   \n",
      "2      2.020070e+14    7800.0       17            Grey         SKODA   \n",
      "3      2.020070e+14   45000.0       16           Brown      Vauxhall   \n",
      "4      2.020070e+14   64000.0       64            Grey    Land Rover   \n",
      "\n",
      "      standard_model vehicle_condition  year_of_registration  price  \\\n",
      "0               XC90               NEW                   NaN  73970   \n",
      "1                 XF              USED                2011.0   7000   \n",
      "2               Yeti              USED                2017.0  14000   \n",
      "3              Mokka              USED                2016.0   7995   \n",
      "4  Range Rover Sport              USED                2015.0  26995   \n",
      "\n",
      "   body_type  crossover_car_and_van              fuel_type  \n",
      "0        SUV                  False  Petrol Plug-in Hybrid  \n",
      "1     Saloon                  False                 Diesel  \n",
      "2        SUV                  False                 Petrol  \n",
      "3  Hatchback                  False                 Diesel  \n",
      "4        SUV                  False                 Diesel  \n"
     ]
    }
   ],
   "source": []
  }
 ],
 "metadata": {
  "kernelspec": {
   "display_name": "base",
   "language": "python",
   "name": "python3"
  },
  "language_info": {
   "codemirror_mode": {
    "name": "ipython",
    "version": 3
   },
   "file_extension": ".py",
   "mimetype": "text/x-python",
   "name": "python",
   "nbconvert_exporter": "python",
   "pygments_lexer": "ipython3",
   "version": "3.11.5"
  }
 },
 "nbformat": 4,
 "nbformat_minor": 2
}
