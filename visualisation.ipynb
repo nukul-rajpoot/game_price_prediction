{
 "cells": [
  {
   "cell_type": "markdown",
   "metadata": {},
   "source": [
    "### Get data from steam API"
   ]
  },
  {
   "cell_type": "code",
   "execution_count": 1,
   "metadata": {},
   "outputs": [
    {
     "name": "stdout",
     "output_type": "stream",
     "text": [
      "Data for AWP | Asiimov (Field-Tested): {'success': True, 'lowest_price': '$160.08', 'volume': '24', 'median_price': '$155.47'}\n",
      "Data for AK-47 | Redline (Field-Tested): {'success': True, 'lowest_price': '$24.21', 'volume': '421', 'median_price': '$24.16'}\n",
      "Data for M4A4 | Desolate Space (Field-Tested): {'success': True, 'lowest_price': '$6.05', 'volume': '174', 'median_price': '$5.97'}\n"
     ]
    }
   ],
   "source": [
    "import requests\n",
    "\n",
    "def fetch_item_data(item_name):\n",
    "    \"\"\"\n",
    "    Fetch data for a specific CS:GO item from the Steam Market.\n",
    "    Args:\n",
    "    item_name (str): The name of the item to search for.\n",
    "    \n",
    "    Returns:\n",
    "    dict: Item data including price, volume, etc.\n",
    "    \"\"\"\n",
    "    # Replace 'YOUR_STEAM_API_KEY' with your actual Steam Web API key\n",
    "    api_key = 'YOUR_STEAM_API_KEY'\n",
    "    # Replace '730' with the app ID for CS:GO on Steam\n",
    "    app_id = '730'\n",
    "    # Construct the URL for the API endpoint\n",
    "    url = f\"http://steamcommunity.com/market/priceoverview/?appid={app_id}&currency=1&market_hash_name={item_name}\"\n",
    "    \n",
    "    # Make the HTTP GET request to the Steam API\n",
    "    response = requests.get(url)\n",
    "    \n",
    "    # Check if the request was successful\n",
    "    if response.status_code == 200:\n",
    "        return response.json()\n",
    "    else:\n",
    "        return None\n",
    "\n",
    "# List of CS:GO items to fetch data for\n",
    "items = [\"AWP | Asiimov (Field-Tested)\", \"AK-47 | Redline (Field-Tested)\", \"M4A4 | Desolate Space (Field-Tested)\"]\n",
    "\n",
    "# Fetch and print the data for each item\n",
    "for item in items:\n",
    "    data = fetch_item_data(item)\n",
    "    if data:\n",
    "        print(f\"Data for {item}: {data}\")\n",
    "    else:\n",
    "        print(f\"Failed to fetch data for {item}\")\n",
    "\n",
    "#bro"
   ]
  }
 ],
 "metadata": {
  "kernelspec": {
   "display_name": "base",
   "language": "python",
   "name": "python3"
  },
  "language_info": {
   "codemirror_mode": {
    "name": "ipython",
    "version": 3
   },
   "file_extension": ".py",
   "mimetype": "text/x-python",
   "name": "python",
   "nbconvert_exporter": "python",
   "pygments_lexer": "ipython3",
   "version": "3.11.5"
  }
 },
 "nbformat": 4,
 "nbformat_minor": 2
}
