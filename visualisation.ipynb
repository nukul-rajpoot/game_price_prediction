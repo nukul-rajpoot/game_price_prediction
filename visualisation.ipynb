{
 "cells": [
  {
   "cell_type": "markdown",
   "metadata": {},
   "source": [
    "### Get data from steam API"
   ]
  },
  {
   "cell_type": "code",
   "execution_count": 8,
   "metadata": {},
   "outputs": [
    {
     "name": "stdout",
     "output_type": "stream",
     "text": [
      "Data for AWP | Asiimov (Field-Tested): {'success': True, 'lowest_price': '$160.63', 'volume': '32', 'median_price': '$159.57'}\n",
      "Data for AK-47 | Redline (Field-Tested): {'success': True, 'lowest_price': '$24.07', 'volume': '271', 'median_price': '$24.05'}\n",
      "Data for M4A4 | Desolate Space (Field-Tested): {'success': True, 'lowest_price': '$5.70', 'volume': '182', 'median_price': '$6.01'}\n"
     ]
    }
   ],
   "source": [
    "import requests\n",
    "\n",
    "def fetch_item_data(item_name):\n",
    "    \"\"\"\n",
    "    Fetch data for a specific CS:GO item from the Steam Market.\n",
    "    Args:\n",
    "    item_name (str): The name of the item to search for.\n",
    "    \n",
    "    Returns:\n",
    "    dict: Item data including price, volume, etc.\n",
    "    \"\"\"\n",
    "    # Replace 'YOUR_STEAM_API_KEY' with your actual Steam Web API key\n",
    "    api_key = 'YOUR_STEAM_API_KEY'\n",
    "    # Replace '730' with the app ID for CS:GO on Steam\n",
    "    app_id = '730'\n",
    "    # Construct the URL for the API endpoint\n",
    "    url = f\"http://steamcommunity.com/market/priceoverview/?appid={app_id}&currency=1&market_hash_name={item_name}\"\n",
    "    \n",
    "    # Make the HTTP GET request to the Steam API\n",
    "    response = requests.get(url)\n",
    "    \n",
    "    # Check if the request was successful\n",
    "    if response.status_code == 200:\n",
    "        return response.json()\n",
    "    else:\n",
    "        return None\n",
    "\n",
    "# List of CS:GO items to fetch data for\n",
    "items = [\"AWP | Asiimov (Field-Tested)\", \"AK-47 | Redline (Field-Tested)\", \"M4A4 | Desolate Space (Field-Tested)\"]\n",
    "\n",
    "# Fetch and print the data for each item\n",
    "for item in items:\n",
    "    data = fetch_item_data(item)\n",
    "    if data:\n",
    "        print(f\"Data for {item}: {data}\")\n",
    "    else:\n",
    "        print(f\"Failed to fetch data for {item}\")\n",
    "\n",
    "#bro"
   ]
  },
  {
   "cell_type": "code",
   "execution_count": 26,
   "metadata": {},
   "outputs": [
    {
     "name": "stdout",
     "output_type": "stream",
     "text": [
      "Error: HTTP request failed with status code 400\n"
     ]
    }
   ],
   "source": [
    "#PROGRESS NUMBA 2\n",
    "\n",
    "import requests\n",
    "\n",
    "# URL of the web page with JSON data\n",
    "url = 'https://steamcommunity.com/market/pricehistory/?country=US&currency=1&appid=730&market_hash_name=Glove%20Case%20Key'\n",
    "api_key = 'C33DFFF97C3C8799B0E97ADE75C956F4'\n",
    "\n",
    "\n",
    "# Parameters\n",
    "params = {\n",
    "    'country': 'US',\n",
    "    'currency': '1',\n",
    "    'appid': '730',\n",
    "    'market_hash_name': 'Glove Case Key' \n",
    "}\n",
    "\n",
    "# Headers (including User-Agent and Cookie)\n",
    "headers = {\n",
    "    'User-Agent': 'Mozilla/5.0 (Windows NT 10.0; Win64; x64; rv:89.0) Gecko/20100101 Firefox/89.0',\n",
    "    'Cookie': 'steamLoginSecure=765611979704981720%7C%7CeyAidHlwIjogIkpXVCIsICJhbGciOiAiRWREU0EilH0.eyAiaXNzdjogInI6MTc2OV8yNDkzRTBEQV8xMDDBMyIsICJzdWIiOiAiNzY1NjExOTk3MDQ5ODE3MjAiLCJpc3MiOiAiZ2FtZXNfc2VydmVyX3NpZ24vQWNjZXNzVG9rZW4iLCJhcHBfcmV2b2tlIjogMTExNDA1MCIsIm5iZiI6MTExNDA1MDAwMCwiZXhwIjoxMTExNDA2NTQwMCwibG9naW5fdXJsIjoiaHR0cHM6Ly93d3cuc3RlYW1wb3dlcmVkLmNvbSIsICJzdGVhbXBsYXlfc3ViZG9tYWlucyI6ICJnYW1lcyIsICJzdGVhbXB3YW1lciIsICJhbGwiLCBldmVudF9leHBpcmVzIjogMTEyMjIzOTk3OTB9.jAbUXBJqe5ldCJR4IpCPDjlfOVBMNIeJZN9wN8Yr39LVgv3uN4OQptmKZHXo8iJ_gUNXX5yHj4aaRDQ'\n",
    "}\n",
    "\n",
    "\n",
    "# Make an HTTP GET request to the URL with parameters and headers\n",
    "response = requests.get(url, params=params, headers=headers)\n",
    "\n",
    "\n",
    "# Check if the request was successful\n",
    "if response.status_code == 200:\n",
    "    try:\n",
    "        # Parse the JSON data from the response\n",
    "        data = response.json()\n",
    "        # Print the parsed data\n",
    "        print(data)\n",
    "    except ValueError:\n",
    "        print(\"Error: Unable to parse JSON\")\n",
    "else:\n",
    "    print(f\"Error: HTTP request failed with status code {response.status_code}\")\n",
    "\n",
    "\n"
   ]
  },
  {
   "cell_type": "code",
   "execution_count": null,
   "metadata": {},
   "outputs": [],
   "source": []
  }
 ],
 "metadata": {
  "kernelspec": {
   "display_name": "base",
   "language": "python",
   "name": "python3"
  },
  "language_info": {
   "codemirror_mode": {
    "name": "ipython",
    "version": 3
   },
   "file_extension": ".py",
   "mimetype": "text/x-python",
   "name": "python",
   "nbconvert_exporter": "python",
   "pygments_lexer": "ipython3",
   "version": "3.12.1"
  }
 },
 "nbformat": 4,
 "nbformat_minor": 2
}
