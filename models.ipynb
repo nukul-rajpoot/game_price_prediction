{
 "cells": [
  {
   "cell_type": "markdown",
   "metadata": {},
   "source": [
    "### Get data from Steam Community Market API and save to csv"
   ]
  },
  {
   "cell_type": "code",
   "execution_count": 5,
   "metadata": {},
   "outputs": [],
   "source": [
    "import re\n",
    "import requests\n",
    "import pandas as pd\n",
    "\n",
    "dailyCookie = \"76561199704981720%7C%7CeyAidHlwIjogIkpXVCIsICJhbGciOiAiRWREU0EiIH0.eyAiaXNzIjogInI6MTcwQl8yNDkzRTBDMF80QkU4NSIsICJzdWIiOiAiNzY1NjExOTk3MDQ5ODE3MjAiLCAiYXVkIjogWyAid2ViOmNvbW11bml0eSIgXSwgImV4cCI6IDE3MTg1NjE2MjksICJuYmYiOiAxNzA5ODM0MjI5LCAiaWF0IjogMTcxODQ3NDIyOSwgImp0aSI6ICIxNEY5XzI0OTNFMEMxX0FEMkFFIiwgIm9hdCI6IDE3MTgzNjI3ODYsICJydF9leHAiOiAxNzM2NjE4ODA2LCAicGVyIjogMCwgImlwX3N1YmplY3QiOiAiODEuMTA1LjIwMS41NyIsICJpcF9jb25maXJtZXIiOiAiOTAuMTk3Ljc5LjEzMyIgfQ.e_-hJhZLVIE2Vh24baY6-qLNMhcLl_oKNyj0UQsLWVXeTA56Sy0cBh9WRHRdUEQ3JuV9p3-YVUHcloskwOdaDw\"\n",
    "items = [\"Glove Case Key\", \"Officer Jacques Beltram | Gendarmerie Nationale\"]\n",
    "\n",
    "def fetch_item_to_df(item):\n",
    "    # get historical price data of item from API\n",
    "    url = \"https://steamcommunity.com/market/pricehistory/\"\n",
    "    params = {\n",
    "        'country': 'US',\n",
    "        'currency': '1',\n",
    "        'appid': '730',\n",
    "        'market_hash_name': item\n",
    "    }\n",
    "    cookies = {'steamLoginSecure': dailyCookie}\n",
    "    \n",
    "    response = requests.get(url, params=params, cookies=cookies)\n",
    "    jsonData = response.json()\n",
    "\n",
    "    # convert and clean data to dataframe object\n",
    "    historical_prices = jsonData['prices']\n",
    "    historical_prices_cleaned = pd.DataFrame(historical_prices, columns=['date', 'price_pounds', 'volume'])\n",
    "    historical_prices_cleaned['date'] = pd.to_datetime(historical_prices_cleaned['date'].str[:-7], format='%b %d %Y')\n",
    "    return historical_prices_cleaned\n",
    "\n",
    "def sanitize_filename(filename):\n",
    "    \"\"\"Sanitizes the filename to ensure it is valid for most operating systems.\"\"\"\n",
    "    filename = re.sub(r'[\\\\/*?:\"<>|]', '_', filename)  # Replace disallowed characters with underscore\n",
    "    filename = re.sub(r'\\s+', '_', filename)  # Replace spaces with underscores\n",
    "    return filename\n",
    "\n",
    "def save_item_to_csv(item):\n",
    "    csvData = './data/'+ sanitize_filename(item) +'.csv'\n",
    "    fetch_item_to_df(item).to_csv(csvData, index=False)\n",
    "\n",
    "\n",
    "# fetch and save data in items to csv\n",
    "for index, item in enumerate(items):\n",
    "    save_item_to_csv(item)\n",
    "\n"
   ]
  }
 ],
 "metadata": {
  "kernelspec": {
   "display_name": "base",
   "language": "python",
   "name": "python3"
  },
  "language_info": {
   "codemirror_mode": {
    "name": "ipython",
    "version": 3
   },
   "file_extension": ".py",
   "mimetype": "text/x-python",
   "name": "python",
   "nbconvert_exporter": "python",
   "pygments_lexer": "ipython3",
   "version": "3.11.5"
  }
 },
 "nbformat": 4,
 "nbformat_minor": 2
}
