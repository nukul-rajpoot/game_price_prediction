{
 "cells": [
  {
   "cell_type": "markdown",
   "metadata": {},
   "source": [
    "Get original DataFrame"
   ]
  },
  {
   "cell_type": "code",
   "execution_count": 1,
   "metadata": {},
   "outputs": [],
   "source": [
    "import sys\n",
    "import plotly.graph_objects as go\n",
    "import pandas as pd\n",
    "from ipywidgets import interact, DatePicker\n",
    "import numpy as np\n",
    "import os\n",
    "import tensorflow as tf\n",
    "from tensorflow.keras.models import Sequential\n",
    "from tensorflow.keras.layers import Dense\n",
    "from tensorflow.keras.layers import LSTM\n",
    "from sklearn.preprocessing import MinMaxScaler\n",
    "from sklearn.metrics import mean_squared_error\n",
    "sys.path.insert(0, os.path.abspath('../..'))\n",
    "\n",
    "from python_scripts.api_calls import fetch_item_from_api, fetch_item_to_df, fetch_items, get_cookie_from_blob\n",
    "from make_graphs import plot_historic_price, plot_historic_volume,  plot_lognormalised_historic_price, plot_lognormalised_historic_volume, plot_simple_moving_average, plot_exponential_moving_average, plot_weighted_least_squares, plot_bollinger_bands, plot_relative_strength_index, plot_money_flow_index\n",
    "from python_scripts.calculate_metrics import create_ln_df, calculate_sma, calculate_ema, calculate_bollinger_bands, calculate_price_percentage_change, calculate_relative_strength_index, calculate_market_cap, calculate_money_flow_index, calculate_market_cap_jupyter\n",
    "\n",
    "dailyCookie = get_cookie_from_blob()\n",
    "items = fetch_items()\n",
    "\n",
    "current_item = fetch_item_to_df(items[4], dailyCookie)\n",
    "#print(items[4])\n",
    "\n",
    "#print(current_item.tail())\n",
    "#print(non_aggregated_item.tail())\n",
    "\n",
    "df = current_item"
   ]
  },
  {
   "cell_type": "markdown",
   "metadata": {},
   "source": []
  },
  {
   "cell_type": "code",
   "execution_count": 3,
   "metadata": {},
   "outputs": [
    {
     "name": "stdout",
     "output_type": "stream",
     "text": [
      "[6.433 3.563 2.707 ... 6.379 6.379 6.318]\n",
      "date\n",
      "2016-11-29    6.4330\n",
      "2016-11-30    3.5630\n",
      "2016-12-01    2.7070\n",
      "2016-12-02    2.0750\n",
      "2016-12-03    1.6100\n",
      "               ...  \n",
      "2024-08-05    6.3195\n",
      "2024-08-06    6.4130\n",
      "2024-08-07    6.3790\n",
      "2024-08-08    6.3790\n",
      "2024-08-09    6.3180\n",
      "Freq: D, Name: price_usd, Length: 2811, dtype: float64\n"
     ]
    }
   ],
   "source": [
    "processed_df = df[\"price_usd\"]\n",
    "tf.random.set_seed(0)\n",
    "\n",
    "#processed_df['y'] = processed_df[0].shift(-1)\n",
    "\n",
    "dataset = processed_df.values\n",
    "dataset = dataset.astype('float32')\n",
    "print(dataset)\n",
    "print(processed_df)\n",
    "# normalize the dataset\n",
    "#scaler = MinMaxScaler(feature_range=(0, 1))\n",
    "#dataset = scaler.fit_transform(dataset)\n"
   ]
  },
  {
   "cell_type": "markdown",
   "metadata": {},
   "source": []
  },
  {
   "cell_type": "code",
   "execution_count": 4,
   "metadata": {},
   "outputs": [],
   "source": [
    "#split into training and testing\n",
    "train_size = int(len(dataset) * 0.7)\n",
    "test_size = len(dataset) - train_size\n",
    "\n",
    "train, test = dataset[0:train_size], dataset[train_size:len(dataset)]\n"
   ]
  }
 ],
 "metadata": {
  "kernelspec": {
   "display_name": "Python 3",
   "language": "python",
   "name": "python3"
  },
  "language_info": {
   "codemirror_mode": {
    "name": "ipython",
    "version": 3
   },
   "file_extension": ".py",
   "mimetype": "text/x-python",
   "name": "python",
   "nbconvert_exporter": "python",
   "pygments_lexer": "ipython3",
   "version": "3.11.5"
  }
 },
 "nbformat": 4,
 "nbformat_minor": 2
}
