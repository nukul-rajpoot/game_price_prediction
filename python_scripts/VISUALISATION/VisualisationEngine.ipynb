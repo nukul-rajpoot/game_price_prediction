{
 "cells": [
  {
   "cell_type": "markdown",
   "metadata": {},
   "source": [
    "### run_main.py"
   ]
  },
  {
   "cell_type": "code",
   "execution_count": null,
   "metadata": {},
   "outputs": [],
   "source": [
    "import sys\n",
    "import os\n",
    "sys.path.insert(0, os.path.abspath('../..'))\n",
    "\n",
    "from python_scripts.api_calls import fetch_item_from_api, fetch_item_to_df, fetch_items, get_cookie_from_blob\n",
    "from make_graphs import plot_historic_price, plot_historic_volume,  plot_lognormalised_historic_price, plot_lognormalised_historic_volume, plot_simple_moving_average, plot_exponential_moving_average, plot_weighted_least_squares, plot_bollinger_bands, plot_relative_strength_index, plot_money_flow_index\n",
    "from python_scripts.calculate_metrics import create_ln_df, calculate_sma, calculate_ema, calculate_bollinger_bands, calculate_price_percentage_change, calculate_relative_strength_index, calculate_market_cap, calculate_money_flow_index, calculate_market_cap_jupyter\n",
    "\n",
    "dailyCookie = get_cookie_from_blob()\n",
    "items = fetch_items()\n",
    "\n",
    "current_item = fetch_item_to_df(items[5], dailyCookie)\n",
    "non_aggregated_item = fetch_item_from_api(items[5], dailyCookie)\n",
    "print(items[5])\n",
    "\n",
    "print(current_item.tail())\n",
    "print(non_aggregated_item.tail())\n",
    "\n",
    "START_DATE = current_item.index[0]\n",
    "END_DATE = current_item.index[-1]\n",
    "\n",
    "\n"
   ]
  },
  {
   "cell_type": "markdown",
   "metadata": {},
   "source": [
    "### historic_price\n",
    " "
   ]
  },
  {
   "cell_type": "code",
   "execution_count": null,
   "metadata": {},
   "outputs": [],
   "source": [
    "#outputs historic price\n",
    "\n",
    "import plotly.graph_objects as go\n",
    "import pandas as pd\n",
    "from ipywidgets import interact, DatePicker\n",
    "import numpy as np\n",
    "\n",
    "df = current_item.copy()\n",
    "\n",
    "\n",
    "start_date_picker = DatePicker(description='Start Date', value=START_DATE)\n",
    "end_date_picker = DatePicker(description='End Date', value=END_DATE)\n",
    "\n",
    "\n",
    "interact(lambda start_date, end_date: plot_historic_price(df, start_date, end_date),\n",
    "         start_date=start_date_picker, end_date=end_date_picker)"
   ]
  },
  {
   "cell_type": "markdown",
   "metadata": {},
   "source": [
    "### historic_volume"
   ]
  },
  {
   "cell_type": "code",
   "execution_count": null,
   "metadata": {},
   "outputs": [],
   "source": [
    "# > Volume Indicatior (1)\n",
    "\n",
    "import plotly.graph_objects as go\n",
    "import pandas as pd\n",
    "from ipywidgets import interact, DatePicker\n",
    "import numpy as np\n",
    "\n",
    "df = current_item.copy()\n",
    "\n",
    "\n",
    "start_date_picker = DatePicker(description='Start Date', value=START_DATE)\n",
    "end_date_picker = DatePicker(description='End Date', value=END_DATE)\n",
    "\n",
    "\n",
    "interact(lambda start_date, end_date: plot_historic_volume(df,  start_date, end_date),\n",
    "         start_date=start_date_picker, end_date=end_date_picker)"
   ]
  },
  {
   "cell_type": "markdown",
   "metadata": {},
   "source": [
    "### lognormal_historic_data"
   ]
  },
  {
   "cell_type": "code",
   "execution_count": null,
   "metadata": {},
   "outputs": [],
   "source": [
    "#outputs log normalised historic price + volume charts\n",
    "\n",
    "import pandas as pd\n",
    "import numpy as np\n",
    "from ipywidgets import interact, DatePicker\n",
    "import plotly.graph_objects as go\n",
    "\n",
    "ln_df = create_ln_df(current_item)\n",
    "\n",
    "start_date_picker = DatePicker(description='Start Date', value=START_DATE)\n",
    "end_date_picker = DatePicker(description='End Date', value=END_DATE)\n",
    "\n",
    "#NOTE: Top is LN price, bottom in LN volume.\n",
    "\n",
    "interact(lambda start_date, end_date: plot_lognormalised_historic_price(ln_df, start_date, end_date),\n",
    "         start_date=start_date_picker, end_date=end_date_picker)\n",
    "\n",
    "interact(lambda start_date, end_date: plot_lognormalised_historic_volume(ln_df, start_date, end_date),\n",
    "         start_date=start_date_picker, end_date=end_date_picker)\n",
    "\n"
   ]
  },
  {
   "cell_type": "markdown",
   "metadata": {},
   "source": [
    "### simple_moving_average"
   ]
  },
  {
   "cell_type": "code",
   "execution_count": null,
   "metadata": {},
   "outputs": [],
   "source": [
    "# SIMPLE Moving Average (SMA)                            \n",
    "\n",
    "\n",
    "import plotly.graph_objects as go\n",
    "import pandas as pd\n",
    "from ipywidgets import interact, DatePicker\n",
    "import numpy as np\n",
    "\n",
    "\n",
    "df = current_item.copy()\n",
    "# NOTE: Window = sets the period for calculating the moving average.\n",
    "window = 2\n",
    "df = calculate_sma(df, window)\n",
    "\n",
    "\n",
    "start_date_picker = DatePicker(description='Start Date', value=START_DATE)\n",
    "end_date_picker = DatePicker(description='End Date', value=END_DATE)\n",
    "\n",
    "\n",
    "interact(lambda start_date, end_date:\n",
    "            plot_simple_moving_average(df, start_date, end_date),\n",
    "            start_date=start_date_picker, end_date=end_date_picker)\n",
    "\n"
   ]
  },
  {
   "cell_type": "markdown",
   "metadata": {},
   "source": [
    "### exponential_moving_average"
   ]
  },
  {
   "cell_type": "code",
   "execution_count": null,
   "metadata": {},
   "outputs": [],
   "source": [
    " # Exponential Moving Average (EMA)  \n",
    " # | Part of Moving Averages (2) block\n",
    "\n",
    "import plotly.graph_objects as go\n",
    "import pandas as pd\n",
    "from ipywidgets import interact, DatePicker\n",
    "import numpy as np\n",
    "\n",
    "\n",
    "df = current_item.copy()\n",
    "\n",
    "# NOTE: Span = Used to calculate the decay factor. Higher span -> greater exponential smoothing\n",
    "span = 10\n",
    "df = calculate_ema(df, span)\n",
    "\n",
    "start_date_picker = DatePicker(description='Start Date', value=START_DATE)\n",
    "end_date_picker = DatePicker(description='End Date', value=END_DATE)\n",
    "\n",
    "\n",
    "interact(lambda start_date, end_date:\n",
    "            plot_exponential_moving_average(df, start_date, end_date),\n",
    "            start_date=start_date_picker, end_date=end_date_picker)"
   ]
  },
  {
   "cell_type": "markdown",
   "metadata": {},
   "source": [
    "### ordinary_least_squares & weighted_least_squares (ML)"
   ]
  },
  {
   "cell_type": "code",
   "execution_count": null,
   "metadata": {},
   "outputs": [],
   "source": [
    "# Weighted Least Squares Estimator (3.2) - \n",
    "# Note: this makes OLS (above) redundant since you can adjust weighting to 1 in the 'weight' array\n",
    "\n",
    "from sklearn.linear_model import LinearRegression\n",
    "from sklearn.model_selection import train_test_split\n",
    "import statsmodels.api as sm\n",
    "import plotly.graph_objects as go\n",
    "import pandas as pd\n",
    "from ipywidgets import interact, DatePicker\n",
    "import numpy as np\n",
    "\n",
    "\n",
    "df = current_item.copy()\n",
    "\n",
    "# Weights = determine the influence of data points in WLS; using weights of 1,1 yields OLS results (OLS has uniform weightings).\n",
    "\n",
    "df['date_ordinal'] = df.index.map(pd.Timestamp.toordinal)\n",
    "X = df['date_ordinal'].values.reshape(-1, 1)\n",
    "y = df['price_usd'].values\n",
    "\n",
    "weights = np.linspace(1, 10, len(X))\n",
    "\n",
    "model_wls = sm.WLS(y, sm.add_constant(X), weights=weights).fit()\n",
    "y_pred = model_wls.predict(sm.add_constant(X))\n",
    "\n",
    "split_point = int(len(X) * 0.80)\n",
    "X_train, X_test = X[:split_point], X[split_point:]\n",
    "y_train, y_test = y[:split_point], y[split_point:]\n",
    "\n",
    "\n",
    "\n",
    "\n",
    "\n",
    "start_date_picker = DatePicker(description='Start Date', value=df.index[0], disabled=False)\n",
    "end_date_picker = DatePicker(description='End Date', value=df.index[-1], disabled=False)\n",
    "\n",
    "\n",
    "interact(lambda start_date, end_date:\n",
    "            plot_weighted_least_squares(df, start_date, end_date, y_pred, split_point, y_test),\n",
    "            start_date=start_date_picker, end_date=end_date_picker)\n",
    "\n",
    "\n",
    "\n"
   ]
  },
  {
   "cell_type": "markdown",
   "metadata": {},
   "source": [
    "### bollinger_bands"
   ]
  },
  {
   "cell_type": "code",
   "execution_count": null,
   "metadata": {},
   "outputs": [],
   "source": [
    "# # Bollinger Bands - Bolligner Bands currently use the SMA for the upper + lower band, but standardised to historical price                           \n",
    "\n",
    "\n",
    "import plotly.graph_objects as go\n",
    "import pandas as pd\n",
    "from ipywidgets import interact, DatePicker\n",
    "import numpy as np\n",
    "\n",
    "\n",
    "df = current_item.copy()\n",
    "\n",
    "# Window sets the period length for calculating the Bollinger Bands moving average. Industry standard is 20d. \n",
    "window = 20\n",
    "df= calculate_bollinger_bands(df, window)\n",
    "\n",
    "\n",
    "start_date_picker = DatePicker(description='Start Date', value=START_DATE)\n",
    "end_date_picker = DatePicker(description='End Date', value=END_DATE)\n",
    "\n",
    "interact(lambda start_date, end_date:\n",
    "            plot_bollinger_bands(df, start_date, end_date),\n",
    "            start_date=start_date_picker, end_date=end_date_picker)"
   ]
  },
  {
   "cell_type": "markdown",
   "metadata": {},
   "source": [
    "### price_percentage_change"
   ]
  },
  {
   "cell_type": "code",
   "execution_count": null,
   "metadata": {},
   "outputs": [],
   "source": [
    "# Percentage Change output\n",
    "\n",
    "from ipywidgets import DatePicker, interact\n",
    "\n",
    "df = current_item.copy()\n",
    "\n",
    "start_date_picker = DatePicker(description='Start Date', value=START_DATE)\n",
    "end_date_picker = DatePicker(description='End Date', value=END_DATE)\n",
    "\n",
    "\n",
    "def update_percentage_change(start_date, end_date):\n",
    "    calculate_price_percentage_change(df, start_date, end_date)\n",
    "\n",
    "interact(update_percentage_change, start_date=start_date_picker, end_date=end_date_picker)\n"
   ]
  },
  {
   "cell_type": "markdown",
   "metadata": {},
   "source": [
    "### relative_strength_index"
   ]
  },
  {
   "cell_type": "code",
   "execution_count": null,
   "metadata": {},
   "outputs": [],
   "source": [
    "#rsi \n",
    "\n",
    "import plotly.graph_objects as go\n",
    "import pandas as pd\n",
    "from ipywidgets import interact, DatePicker\n",
    "import numpy as np\n",
    "\n",
    " \n",
    "df = non_aggregated_item.copy()\n",
    "\n",
    "window = \"5d\"\n",
    "rsi_data = calculate_relative_strength_index(df, window)\n",
    "\n",
    "\n",
    "start_date_picker = DatePicker(description='Start Date', value=START_DATE)\n",
    "end_date_picker = DatePicker(description='End Date', value=END_DATE)\n",
    "\n",
    "interact(lambda start_date, end_date:\n",
    "            plot_relative_strength_index(start_date, end_date, rsi_data, window),\n",
    "            start_date=start_date_picker, end_date=end_date_picker)\n",
    "\n"
   ]
  },
  {
   "cell_type": "markdown",
   "metadata": {},
   "source": [
    "### money_flow_index"
   ]
  },
  {
   "cell_type": "code",
   "execution_count": null,
   "metadata": {},
   "outputs": [],
   "source": [
    "#mfi\n",
    "\n",
    "import plotly.graph_objects as go\n",
    "import pandas as pd\n",
    "from ipywidgets import interact, DatePicker\n",
    "import numpy as np\n",
    "\n",
    "# Copy the data\n",
    "df = non_aggregated_item.copy()\n",
    "\n",
    "# Define window for resampling\n",
    "window = \"5d\"\n",
    "mfi_data = calculate_money_flow_index(df, window)\n",
    "\n",
    "# Date pickers for interaction\n",
    "start_date_picker = DatePicker(description='Start Date', value=START_DATE)\n",
    "end_date_picker = DatePicker(description='End Date', value=END_DATE)\n",
    "\n",
    "interact(lambda start_date, end_date:\n",
    "            plot_money_flow_index(start_date, end_date, mfi_data, window),\n",
    "            start_date=start_date_picker, end_date=end_date_picker)\n",
    "\n"
   ]
  },
  {
   "cell_type": "markdown",
   "metadata": {},
   "source": [
    "### market_cap"
   ]
  },
  {
   "cell_type": "code",
   "execution_count": null,
   "metadata": {},
   "outputs": [],
   "source": [
    "# Market Cap Calculation - for verification purposes/single date\n",
    "\n",
    "df = non_aggregated_item.copy()\n",
    "\n",
    "market_cap = df.resample('d').agg({\n",
    " \n",
    "    'price_usd': ['last'],\n",
    "    'volume': 'sum'\n",
    "      })\n",
    "     # Slices the multi-level columns and renames\n",
    "market_cap.columns = ['close','volume']\n",
    "\n",
    "\n",
    "\n",
    "def update_market_cap(start_date, end_date):\n",
    "     calculate_market_cap_jupyter(market_cap, start_date, end_date)\n",
    "\n",
    "start_date_picker = DatePicker(description='Start Date', value=START_DATE)\n",
    "end_date_picker = DatePicker(description='End Date', value=END_DATE)\n",
    "\n",
    "interact(lambda start_date, end_date: calculate_market_cap_jupyter(market_cap, start_date, end_date),\n",
    "         start_date=start_date_picker, end_date=end_date_picker)"
   ]
  },
  {
   "cell_type": "markdown",
   "metadata": {},
   "source": [
    "### CANDLESTICK - NOT DONE YET - PLAN: IMPLIMENT IN EVERY CODEBLOCK AS TRUE/FALSE FUNCTION"
   ]
  },
  {
   "cell_type": "code",
   "execution_count": null,
   "metadata": {},
   "outputs": [],
   "source": [
    "#CANDLESTICK BUT WITH FIRST AND LAST INSTEAD OF MEAN AND MEDIAN\n",
    "\n",
    "import plotly.graph_objects as go\n",
    "import pandas as pd\n",
    "from ipywidgets import interact, DatePicker\n",
    "import numpy as np\n",
    "\n",
    "# renames current item to df\n",
    "df = current_item.copy()\n",
    "\n",
    "# Resample the data to weekly timeframe\n",
    "# NOTE: Range can be altered: 'W' (week), 'M' (Month), '2D' (2 Days)\n",
    "new_data = df.resample('w').agg({\n",
    "    'price_usd': ['max', 'min', 'first', 'last'],\n",
    "    'volume': 'sum'\n",
    "})\n",
    "\n",
    "\n",
    "# Slices the multi-level columns and renames\n",
    "new_data.columns = ['high', 'low', 'open', 'close' ,'volume']\n",
    "\n",
    "\n",
    "# Function to update the graph based on the selected date range\n",
    "def update_graph(start_date, end_date):\n",
    " \n",
    "\n",
    "    mask = (new_data.index >= pd.to_datetime(start_date)) & (new_data.index <= pd.to_datetime(end_date))\n",
    "    filtered_data = new_data.loc[mask]\n",
    "\n",
    "    \n",
    "    # Creating the candlestick chart\n",
    "    fig = go.Figure(data=[go.Candlestick(x=filtered_data.index,\n",
    "                                         open=filtered_data['open'],\n",
    "                                         high=filtered_data['high'],\n",
    "                                         low=filtered_data['low'],\n",
    "                                         close=filtered_data['close'],\n",
    "                                         name='Candlestick')])\n",
    "    \n",
    "\n",
    "\n",
    "    # Formatting\n",
    "    fig.update_layout(\n",
    "        title='SMA - Candlestick',\n",
    "        xaxis_title='Date',\n",
    "        yaxis_title='Price USD',\n",
    "        yaxis=dict(\n",
    "            title='Price USD',\n",
    "            titlefont_size=16,\n",
    "            tickfont_size=14,\n",
    "        ),\n",
    "        \n",
    "        showlegend=True\n",
    "    )\n",
    "\n",
    "    fig.show()\n",
    "\n",
    "\n",
    "\n",
    "\n",
    "# Creating interactive widgets for date selection\n",
    "start_date_picker = DatePicker(description='Start Date', value=START_DATE)\n",
    "end_date_picker = DatePicker(description='End Date', value=END_DATE)\n",
    "\n",
    "# Display the interactive widget\n",
    "\n",
    "interact(update_graph, start_date=start_date_picker, end_date=end_date_picker)"
   ]
  }
 ],
 "metadata": {
  "kernelspec": {
   "display_name": "base",
   "language": "python",
   "name": "python3"
  },
  "language_info": {
   "codemirror_mode": {
    "name": "ipython",
    "version": 3
   },
   "file_extension": ".py",
   "mimetype": "text/x-python",
   "name": "python",
   "nbconvert_exporter": "python",
   "pygments_lexer": "ipython3",
   "version": "3.11.9"
  }
 },
 "nbformat": 4,
 "nbformat_minor": 2
}
