{
 "cells": [
  {
   "cell_type": "code",
   "execution_count": null,
   "metadata": {},
   "outputs": [],
   "source": [
    "#Imports\n",
    "import statsmodels.api as sm\n",
    "import pandas as pd\n",
    "from ipywidgets import interact, DatePicker\n",
    "import numpy as np\n",
    "import sys\n",
    "import os\n",
    "\n",
    "sys.path.insert(0, os.path.abspath('../../../'))\n",
    "from python_scripts.utilities.api_calls import fetch_item_to_df, fetch_items, get_cookie_from_blob\n",
    "from python_scripts.visualisation.make_graphs import plot_weighted_least_squares\n"
   ]
  },
  {
   "cell_type": "code",
   "execution_count": null,
   "metadata": {},
   "outputs": [],
   "source": [
    "# API call + current item defining\n",
    "dailyCookie = get_cookie_from_blob()\n",
    "items = fetch_items()\n",
    "current_item = fetch_item_to_df(items[4], dailyCookie)\n",
    "print(\"current item:\", items[4])"
   ]
  },
  {
   "cell_type": "code",
   "execution_count": null,
   "metadata": {},
   "outputs": [],
   "source": [
    "# Data  prep + weighting\n",
    "# NOTE:  Weights = determine the influence of data points in WLS; using weights of 1,1 yields OLS results (OLS has uniform weightings).\n",
    "df = current_item\n",
    "df['date_ordinal'] = df.index.map(pd.Timestamp.toordinal)\n",
    "X = df['date_ordinal'].values.reshape(-1, 1)\n",
    "y = df['price_usd'].values\n",
    "print((y))\n",
    "print((X))\n",
    "weights = np.linspace(1, 10, len(X))\n",
    "\n",
    "\n",
    "#fitting model & train-test split\n",
    "model_wls = sm.WLS(y, sm.add_constant(X), weights=weights).fit()\n",
    "y_pred = model_wls.predict(sm.add_constant(X))\n",
    "\n",
    "split_point = int(len(X) * 0.80)\n",
    "X_train, X_test = X[:split_point], X[split_point:]\n",
    "y_train, y_test = y[:split_point], y[split_point:]"
   ]
  },
  {
   "cell_type": "code",
   "execution_count": null,
   "metadata": {},
   "outputs": [],
   "source": [
    "\n",
    "# plotting WLS graph\n",
    "start_date_picker = DatePicker(description='Start Date', value=df.index[0], disabled=False)\n",
    "end_date_picker = DatePicker(description='End Date', value=df.index[-1], disabled=False)\n",
    "\n",
    "interact(lambda start_date, end_date:\n",
    "            plot_weighted_least_squares(df, start_date, end_date, y_pred, split_point, y_test),\n",
    "            start_date=start_date_picker, end_date=end_date_picker)"
   ]
  }
 ],
 "metadata": {
  "kernelspec": {
   "display_name": "base",
   "language": "python",
   "name": "python3"
  },
  "language_info": {
   "codemirror_mode": {
    "name": "ipython",
    "version": 3
   },
   "file_extension": ".py",
   "mimetype": "text/x-python",
   "name": "python",
   "nbconvert_exporter": "python",
   "pygments_lexer": "ipython3",
   "version": "3.11.5"
  }
 },
 "nbformat": 4,
 "nbformat_minor": 2
}
