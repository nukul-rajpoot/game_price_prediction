{
 "cells": [
  {
   "cell_type": "code",
   "execution_count": 1,
   "metadata": {},
   "outputs": [
    {
     "ename": "ModuleNotFoundError",
     "evalue": "No module named 'api_calls'",
     "output_type": "error",
     "traceback": [
      "\u001b[0;31m---------------------------------------------------------------------------\u001b[0m",
      "\u001b[0;31mModuleNotFoundError\u001b[0m                       Traceback (most recent call last)",
      "Cell \u001b[0;32mIn[1], line 11\u001b[0m\n\u001b[1;32m      8\u001b[0m cwd \u001b[38;5;241m=\u001b[39m os\u001b[38;5;241m.\u001b[39mgetcwd()\n\u001b[1;32m     10\u001b[0m sys\u001b[38;5;241m.\u001b[39mpath\u001b[38;5;241m.\u001b[39minsert(\u001b[38;5;241m0\u001b[39m, os\u001b[38;5;241m.\u001b[39mpath\u001b[38;5;241m.\u001b[39mabspath(os\u001b[38;5;241m.\u001b[39mpath\u001b[38;5;241m.\u001b[39mjoin(cwd, \u001b[38;5;124m'\u001b[39m\u001b[38;5;124m..\u001b[39m\u001b[38;5;124m'\u001b[39m, \u001b[38;5;124m'\u001b[39m\u001b[38;5;124mutilities\u001b[39m\u001b[38;5;124m'\u001b[39m, \u001b[38;5;124m'\u001b[39m\u001b[38;5;124mapi_calls\u001b[39m\u001b[38;5;124m'\u001b[39m)))\n\u001b[0;32m---> 11\u001b[0m \u001b[38;5;28;01mfrom\u001b[39;00m \u001b[38;5;21;01mapi_calls\u001b[39;00m \u001b[38;5;28;01mimport\u001b[39;00m get_cookie_from_blob, fetch_item_to_df, fetch_items\n\u001b[1;32m     13\u001b[0m \u001b[38;5;66;03m# Go two directories up\u001b[39;00m\n\u001b[1;32m     14\u001b[0m game_price_prediction_path \u001b[38;5;241m=\u001b[39m os\u001b[38;5;241m.\u001b[39mpath\u001b[38;5;241m.\u001b[39mabspath(os\u001b[38;5;241m.\u001b[39mpath\u001b[38;5;241m.\u001b[39mjoin(cwd, \u001b[38;5;124m'\u001b[39m\u001b[38;5;124m..\u001b[39m\u001b[38;5;124m'\u001b[39m, \u001b[38;5;124m'\u001b[39m\u001b[38;5;124m..\u001b[39m\u001b[38;5;124m'\u001b[39m))\n",
      "\u001b[0;31mModuleNotFoundError\u001b[0m: No module named 'api_calls'"
     ]
    }
   ],
   "source": [
    "import pandas as pd\n",
    "import plotly.graph_objects as go\n",
    "from plotly.subplots import make_subplots\n",
    "import sys\n",
    "import os\n",
    "from sklearn.preprocessing import MinMaxScaler\n",
    "from scipy import stats\n",
    "cwd = os.getcwd()\n",
    "\n",
    "sys.path.insert(0, os.path.abspath(os.path.join(cwd, '..', 'utilities', 'api_calls')))\n",
    "from api_calls import get_cookie_from_blob, fetch_item_to_df, fetch_items\n",
    "\n",
    "# Go two directories up\n",
    "game_price_prediction_path = os.path.abspath(os.path.join(cwd, '..', '..'))\n",
    "\n",
    "\"\"\"\"\"\"\"\"\"\"\"\"\"\"\"\"\"\"\"\"\"\"\"\"\"\"\"\"\"\"\"\"\"\"\"\"\"\"\"\"\"\"\"\"\"\"\"\"\"\"\"\"\"\"\"\"\"\"\"\"\"\"\"\"\"\"\"\"\"\"\"\"\"\"\"\"\"\"\"\"\"\"\"\"\"\"\"\"\"\"\"\"\"\"\" \n",
    "- Takes data from mention_data \n",
    "- and a range of others; polarity_data, or fetches price history\n",
    "- Plots it sexily\n",
    "\"\"\"\"\"\"\"\"\"\"\"\"\"\"\"\"\"\"\"\"\"\"\"\"\"\"\"\"\"\"\"\"\"\"\"\"\"\"\"\"\"\"\"\"\"\"\"\"\"\"\"\"\"\"\"\"\"\"\"\"\"\"\"\"\"\"\"\"\"\"\"\"\"\"\"\"\"\"\"\"\"\"\"\"\"\"\"\"\"\"\"\"\"\"\" \n"
   ]
  },
  {
   "cell_type": "markdown",
   "metadata": {},
   "source": [
    "### for plotting polarity & mentions"
   ]
  },
  {
   "cell_type": "code",
   "execution_count": null,
   "metadata": {},
   "outputs": [],
   "source": [
    "# Load data\n",
    "mentions_df = pd.read_csv(os.path.join(game_price_prediction_path, 'data/Reddit_data/mention_ALL/key_from_ALL.csv'))\n",
    "polarity_df = pd.read_csv(os.path.join(game_price_prediction_path, 'data/Reddit_data/polarity_data/key_from_csgo_comments.csv'))\n",
    "\n",
    "# Preprocess data\n",
    "mentions_df['date'] = pd.to_datetime(mentions_df['date'])\n",
    "polarity_df['date'] = pd.to_datetime(polarity_df['date'])\n",
    "\n",
    "# Calculate average polarity score for each day\n",
    "polarity_df['compound'] = polarity_df['compound'].astype(float)\n",
    "daily_polarity = polarity_df.groupby('date')['compound'].mean().reset_index()\n",
    "\n",
    "# Merge mentions and daily polarity data\n",
    "merged_df = pd.merge(mentions_df, daily_polarity, on='date', how='outer').sort_values('date')\n",
    "merged_df = merged_df.fillna(method='ffill')\n",
    "\n",
    "# Create figure with secondary y-axis\n",
    "fig = make_subplots(specs=[[{\"secondary_y\": True}]])\n",
    "\n",
    "# Add traces\n",
    "fig.add_trace(\n",
    "    go.Scatter(x=merged_df['date'], y=merged_df['num_mentions'], name=\"Mentions\", line=dict(color='blue')),\n",
    "    secondary_y=False,\n",
    ")\n",
    "\n",
    "fig.add_trace(\n",
    "    go.Scatter(x=merged_df['date'], y=merged_df['compound'], name=\"Average Polarity\", line=dict(color='red')),\n",
    "    secondary_y=True,\n",
    ")\n",
    "\n",
    "# Update layout for better readability\n",
    "fig.update_layout(\n",
    "    title_text=\"Mentions and Average Polarity Over Time for 'Key' in CS:GO Comments\",\n",
    "    legend=dict(orientation=\"h\", yanchor=\"bottom\", y=1.02, xanchor=\"right\", x=1),\n",
    "    margin=dict(l=50, r=50, t=80, b=50),\n",
    ")\n",
    "\n",
    "# Update y-axes\n",
    "fig.update_yaxes(title_text=\"Number of Mentions\", secondary_y=False, gridcolor='lightgrey')\n",
    "fig.update_yaxes(title_text=\"Average Polarity (Compound Score)\", secondary_y=True, gridcolor='lightgrey')\n",
    "\n",
    "# Update x-axis\n",
    "fig.update_xaxes(title_text=\"Date\", gridcolor='lightgrey')\n",
    "\n",
    "# Show the figure\n",
    "fig.show()\n",
    "\n",
    "# Save as HTML\n",
    "fig.write_html(\"mentions_and_polarity_chart.html\")"
   ]
  },
  {
   "cell_type": "markdown",
   "metadata": {},
   "source": [
    "### setting up mention + vol/price plotting"
   ]
  },
  {
   "cell_type": "code",
   "execution_count": null,
   "metadata": {},
   "outputs": [],
   "source": [
    "### FETCHING ITEM\n",
    "\n",
    "# Fetch price and volume data FOR ITEM CHOSEN\n",
    "dailyCookie = get_cookie_from_blob()\n",
    "items = fetch_items()\n",
    "item_to_plot = \"AK-47 | Redline (Field-Tested)\"\n",
    "df = fetch_item_to_df(item_to_plot, dailyCookie)\n",
    "print(f\"Data for {item_to_plot} fetched\")\n"
   ]
  },
  {
   "cell_type": "markdown",
   "metadata": {},
   "source": [
    "### plotting mentions agasint volume"
   ]
  },
  {
   "cell_type": "code",
   "execution_count": null,
   "metadata": {},
   "outputs": [],
   "source": [
    "mentions_file = os.path.join('..', '..', 'data', 'Reddit_data', 'mention_ALL', 'redline_from_ALL.csv')\n",
    "mentions_df = pd.read_csv(mentions_file)\n",
    "mentions_df['date'] = pd.to_datetime(mentions_df['date'])\n",
    "\n",
    "# Ensure df has a 'date' column\n",
    "if 'date' not in df.columns:\n",
    "    df = df.reset_index()\n",
    "\n",
    "# Merge mentions and volume data\n",
    "merged_df = pd.merge(mentions_df, df[['date', 'volume']], on='date', how='outer').sort_values('date')\n",
    "merged_df = merged_df.fillna(method='ffill')\n",
    "\n",
    "# Create figure with secondary y-axis\n",
    "fig = make_subplots(specs=[[{\"secondary_y\": True}]])\n",
    "\n",
    "# Add traces\n",
    "fig.add_trace(\n",
    "    go.Scatter(x=merged_df['date'], y=merged_df['num_mentions'], name=\"Mentions\", line=dict(color='blue')),\n",
    "    secondary_y=False,\n",
    ")\n",
    "\n",
    "fig.add_trace(\n",
    "    go.Scatter(x=merged_df['date'], y=merged_df['volume'], name=\"Volume\", line=dict(color='red')),\n",
    "    secondary_y=True,\n",
    ")\n",
    "\n",
    "# Update layout for better readability\n",
    "fig.update_layout(\n",
    "    title_text=f\"Mentions and Volume Over Time for 'AK-47 | Redline'\",\n",
    "    legend=dict(orientation=\"h\", yanchor=\"bottom\", y=1.02, xanchor=\"right\", x=1),\n",
    "    margin=dict(l=50, r=50, t=80, b=50),\n",
    ")\n",
    "\n",
    "# Update y-axes\n",
    "fig.update_yaxes(title_text=\"Number of Mentions\", secondary_y=False, gridcolor='lightgrey')\n",
    "fig.update_yaxes(title_text=\"Volume Traded\", secondary_y=True, gridcolor='lightgrey')\n",
    "\n",
    "# Update x-axis\n",
    "fig.update_xaxes(title_text=\"Date\", gridcolor='lightgrey')\n",
    "\n",
    "# Show the figure\n",
    "fig.show()\n"
   ]
  },
  {
   "cell_type": "code",
   "execution_count": null,
   "metadata": {},
   "outputs": [],
   "source": [
    "# Load data\n",
    "mentions_file = os.path.join(game_price_prediction_path, 'data/Reddit_data/mention_ALL/key_from_ALL.csv')\n",
    "\n",
    "mentions_df = pd.read_csv(mentions_file)\n",
    "mentions_df['date'] = pd.to_datetime(mentions_df['date'])\n",
    "\n",
    "# Ensure 'date' is in the index for the price data\n",
    "if 'date' not in df.columns and df.index.name == 'date':\n",
    "    df = df.reset_index()\n",
    "    \n",
    "# Merge data\n",
    "merged_df = pd.merge(mentions_df, df[['date', 'price_usd']], on='date', how='outer').sort_values('date').ffill()\n",
    "\n",
    "# Normalize the data\n",
    "scaler = MinMaxScaler()\n",
    "merged_df['normalized_mentions'] = scaler.fit_transform(merged_df[['num_mentions']])\n",
    "merged_df['normalized_price'] = scaler.fit_transform(merged_df[['price_usd']])\n",
    "\n",
    "# Create plot\n",
    "fig = make_subplots(specs=[[{\"secondary_y\": True}]])\n",
    "\n",
    "fig.add_trace(go.Scatter(x=merged_df['date'], y=merged_df['normalized_mentions'], name=\"Mentions\"), secondary_y=False)\n",
    "fig.add_trace(go.Scatter(x=merged_df['date'], y=merged_df['normalized_price'], name=\"Price (USD)\"), secondary_y=True)\n",
    "\n",
    "fig.update_layout(\n",
    "    title_text=f\"Normalized Mentions and Price Over Time for '{item_to_plot}'\",\n",
    "    yaxis=dict(title=\"Normalized Mentions\", range=[0, 1]),\n",
    "    yaxis2=dict(title=\"Normalized Price\", range=[0, 1]),\n",
    "    xaxis=dict(title=\"Date\"),\n",
    "    legend=dict(orientation=\"h\", yanchor=\"bottom\", y=1.02, xanchor=\"right\", x=1)\n",
    ")\n",
    "\n",
    "fig.show()\n",
    "\n",
    "\n"
   ]
  }
 ],
 "metadata": {
  "kernelspec": {
   "display_name": "base",
   "language": "python",
   "name": "python3"
  },
  "language_info": {
   "codemirror_mode": {
    "name": "ipython",
    "version": 3
   },
   "file_extension": ".py",
   "mimetype": "text/x-python",
   "name": "python",
   "nbconvert_exporter": "python",
   "pygments_lexer": "ipython3",
   "version": "3.11.5"
  }
 },
 "nbformat": 4,
 "nbformat_minor": 2
}
