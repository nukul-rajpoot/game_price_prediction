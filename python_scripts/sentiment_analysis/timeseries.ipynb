{
 "cells": [
  {
   "cell_type": "code",
   "execution_count": null,
   "metadata": {},
   "outputs": [],
   "source": [
    "import pandas as pd\n",
    "import plotly.graph_objects as go\n",
    "from plotly.subplots import make_subplots\n",
    "import sys\n",
    "import os\n",
    "from sklearn.preprocessing import MinMaxScaler\n",
    "from scipy import stats\n",
    "from scipy.stats import spearmanr, pearsonr\n",
    "from statsmodels.tsa.stattools import adfuller\n",
    "from sklearn.preprocessing import MinMaxScaler\n",
    "import numpy as np\n",
    "from pmdarima import auto_arima\n",
    "from statsmodels.tsa.arima.model import ARIMA\n",
    "\n",
    "cwd = os.getcwd()\n",
    "# print(cwd)\n",
    "\n",
    "# # for windownoobs\n",
    "game_price_prediction_path = os.path.abspath(os.path.join(cwd, '..', '..'))\n",
    "\n",
    "# # for mac\n",
    "#game_price_prediction_path = os.path.abspath(os.path.join(cwd))\n",
    "\n",
    "sys.path.insert(0, os.path.abspath(game_price_prediction_path))\n",
    "\n",
    "from python_scripts.utilities.api_calls import get_cookie_from_blob, fetch_item_to_df, fetch_items\n",
    "from python_scripts.sentiment_analysis.config import ALL_MENTIONS_FILENAME, ITEM, POLARITY_FOLDER_NAME\n",
    "\n",
    "\"\"\"\"\"\"\"\"\"\"\"\"\"\"\"\"\"\"\"\"\"\"\"\"\"\"\"\"\"\"\"\"\"\"\"\"\"\"\"\"\"\"\"\"\"\"\"\"\"\"\"\"\"\"\"\"\"\"\"\"\"\"\"\"\"\"\"\"\"\"\"\"\"\"\"\"\"\"\"\"\"\"\"\"\"\"\"\"\"\"\"\"\"\"\" \n",
    "- Takes data from mention_data \n",
    "- and a range of others; polarity_data, or fetches price history\n",
    "- Plots it sexily\n",
    "\"\"\"\"\"\"\"\"\"\"\"\"\"\"\"\"\"\"\"\"\"\"\"\"\"\"\"\"\"\"\"\"\"\"\"\"\"\"\"\"\"\"\"\"\"\"\"\"\"\"\"\"\"\"\"\"\"\"\"\"\"\"\"\"\"\"\"\"\"\"\"\"\"\"\"\"\"\"\"\"\"\"\"\"\"\"\"\"\"\"\"\"\"\"\" "
   ]
  },
  {
   "cell_type": "markdown",
   "metadata": {},
   "source": [
    "### Prerequisites\n"
   ]
  },
  {
   "cell_type": "code",
   "execution_count": null,
   "metadata": {},
   "outputs": [],
   "source": [
    "# Make sure the correct item is imported from config.py\n",
    "\n",
    "print(f\"ITEM = {ITEM}\")"
   ]
  },
  {
   "cell_type": "code",
   "execution_count": 3,
   "metadata": {},
   "outputs": [],
   "source": [
    "# filter_file_path = os.path.join(game_price_prediction_path, 'python_scripts', 'sentiment_analysis', 'filter_file.py')\n",
    "# !python \"{filter_file_path}\"\n",
    "\n",
    "# mention_counter_path = os.path.join(game_price_prediction_path, 'python_scripts', 'sentiment_analysis', 'mention_counter.py')\n",
    "# !python \"{mention_counter_path}\"\n",
    "\n",
    "# mention_data_combiner_path = os.path.join(game_price_prediction_path, 'python_scripts', 'sentiment_analysis', 'mention_data_combiner.py')\n",
    "# !python \"{mention_data_combiner_path}\"\n",
    "\n",
    "# vader_polarity_path = os.path.join(game_price_prediction_path, 'python_scripts', 'sentiment_analysis', 'vader_polarity.py')\n",
    "# !python \"{vader_polarity_path}\"\n"
   ]
  },
  {
   "cell_type": "markdown",
   "metadata": {},
   "source": [
    "### Plotting polarity & mentions"
   ]
  },
  {
   "cell_type": "code",
   "execution_count": null,
   "metadata": {},
   "outputs": [],
   "source": [
    "# Load data\n",
    "mentions_df = pd.read_csv(os.path.join(game_price_prediction_path, 'data', 'reddit_data', 'mention_all', ALL_MENTIONS_FILENAME))\n",
    "polarity_df = pd.read_csv(os.path.join(game_price_prediction_path, 'data', 'reddit_data', 'polarity_data', POLARITY_FOLDER_NAME, 'csgo_comments.csv'))\n",
    "\n",
    "# Preprocess data\n",
    "mentions_df['date'] = pd.to_datetime(mentions_df['date'])\n",
    "polarity_df['date'] = pd.to_datetime(polarity_df['date'])\n",
    "\n",
    "# Calculate average polarity score for each day\n",
    "polarity_df['compound'] = polarity_df['compound'].astype(float)\n",
    "daily_polarity = polarity_df.groupby('date')['compound'].mean().reset_index()\n",
    "\n",
    "# Merge mentions and daily polarity data\n",
    "merged_df = pd.merge(mentions_df, daily_polarity, on='date', how='outer').sort_values('date')\n",
    "merged_df = merged_df.fillna(method='ffill')\n",
    "\n",
    "# Create figure with secondary y-axis\n",
    "fig = make_subplots(specs=[[{\"secondary_y\": True}]])\n",
    "\n",
    "# Add traces\n",
    "fig.add_trace(\n",
    "    go.Scatter(x=merged_df['date'], y=merged_df['num_volume'], name=\"Mentions\", line=dict(color='blue')),\n",
    "    secondary_y=False,\n",
    ")\n",
    "\n",
    "fig.add_trace(\n",
    "    go.Scatter(x=merged_df['date'], y=merged_df['compound'], name=\"Average Polarity\", line=dict(color='red')),\n",
    "    secondary_y=True,\n",
    ")\n",
    "\n",
    "# Update layout for better readability\n",
    "fig.update_layout(\n",
    "    title_text=\"Mentions and Average Polarity Over Time for 'Key' in CS:GO Comments\",\n",
    "    legend=dict(orientation=\"h\", yanchor=\"bottom\", y=1.02, xanchor=\"right\", x=1),\n",
    "    margin=dict(l=50, r=50, t=80, b=50),\n",
    ")\n",
    "\n",
    "# Update y-axes\n",
    "fig.update_yaxes(title_text=\"Number of Mentions\", secondary_y=False, gridcolor='lightgrey')\n",
    "fig.update_yaxes(title_text=\"Average Polarity (Compound Score)\", secondary_y=True, gridcolor='lightgrey')\n",
    "\n",
    "# Update x-axis\n",
    "fig.update_xaxes(title_text=\"Date\", gridcolor='lightgrey')\n",
    "\n",
    "# Show the figure\n",
    "fig.show()"
   ]
  },
  {
   "cell_type": "markdown",
   "metadata": {},
   "source": [
    "### Fetch price and volume history"
   ]
  },
  {
   "cell_type": "code",
   "execution_count": null,
   "metadata": {},
   "outputs": [],
   "source": [
    "### FETCHING ITEM\n",
    "\n",
    "# Fetch price and volume data FOR ITEM CHOSEN\n",
    "dailyCookie = get_cookie_from_blob()\n",
    "items = fetch_items()\n",
    "df = fetch_item_to_df(ITEM, dailyCookie)\n",
    "print(f\"Data for {ITEM} fetched\")\n"
   ]
  },
  {
   "cell_type": "markdown",
   "metadata": {},
   "source": [
    "### Plotting mentions and volume"
   ]
  },
  {
   "cell_type": "code",
   "execution_count": null,
   "metadata": {},
   "outputs": [],
   "source": [
    "mentions_df = pd.read_csv(os.path.join(game_price_prediction_path, 'data', 'reddit_data', 'mention_all', ALL_MENTIONS_FILENAME))\n",
    "\n",
    "mentions_df['date'] = pd.to_datetime(mentions_df['date'])\n",
    "\n",
    "# Ensure df has a 'date' column\n",
    "if 'date' not in df.columns:\n",
    "    df = df.reset_index()\n",
    "\n",
    "# Merge mentions and volume data\n",
    "merged_df = pd.merge(mentions_df, df[['date', 'volume']], on='date', how='outer').sort_values('date')\n",
    "merged_df = merged_df.fillna(method='ffill')\n",
    "\n",
    "# Create figure with secondary y-axis\n",
    "fig = make_subplots(specs=[[{\"secondary_y\": True}]])\n",
    "\n",
    "# Add traces\n",
    "fig.add_trace(\n",
    "    go.Scatter(x=merged_df['date'], y=merged_df['num_mentions'], name=\"Mentions\", line=dict(color='blue')),\n",
    "    secondary_y=False,\n",
    ")\n",
    "\n",
    "fig.add_trace(\n",
    "    go.Scatter(x=merged_df['date'], y=merged_df['volume'], name=\"Volume\", line=dict(color='red')),\n",
    "    secondary_y=True,\n",
    ")\n",
    "\n",
    "# Update layout for better readability\n",
    "fig.update_layout(\n",
    "    title_text=f\"Mentions and Volume Over Time for {ITEM}\",\n",
    "    legend=dict(orientation=\"h\", yanchor=\"bottom\", y=1.02, xanchor=\"right\", x=1),\n",
    "    margin=dict(l=50, r=50, t=80, b=50),\n",
    ")\n",
    "\n",
    "# Update y-axes\n",
    "fig.update_yaxes(title_text=\"Number of Mentions\", secondary_y=False, gridcolor='lightgrey')\n",
    "fig.update_yaxes(title_text=\"Volume Traded\", secondary_y=True, gridcolor='lightgrey')\n",
    "\n",
    "# Update x-axis\n",
    "fig.update_xaxes(title_text=\"Date\", gridcolor='lightgrey')\n",
    "\n",
    "# Show the figure\n",
    "fig.show()\n"
   ]
  },
  {
   "cell_type": "markdown",
   "metadata": {},
   "source": [
    "### Plotting normalized mentions and normalized price"
   ]
  },
  {
   "cell_type": "code",
   "execution_count": null,
   "metadata": {},
   "outputs": [],
   "source": [
    "# Load data \n",
    "mentions_df = pd.read_csv(os.path.join(game_price_prediction_path, 'data', 'reddit_data', 'mention_all', ALL_MENTIONS_FILENAME))\n",
    "\n",
    "mentions_df['date'] = pd.to_datetime(mentions_df['date'])\n",
    "\n",
    "# Ensure 'date' is in the index for the price data\n",
    "if 'date' not in df.columns and df.index.name == 'date':\n",
    "    df = df.reset_index()\n",
    "    \n",
    "# Merge data\n",
    "merged_df = pd.merge(mentions_df, df[['date', 'price_usd']], on='date', how='outer').sort_values('date').ffill()\n",
    "\n",
    "# Normalize the data\n",
    "scaler = MinMaxScaler()\n",
    "merged_df['normalized_mentions'] = scaler.fit_transform(merged_df[['num_mentions']])\n",
    "merged_df['normalized_price'] = scaler.fit_transform(merged_df[['price_usd']])\n",
    "\n",
    "# Create plot\n",
    "fig = make_subplots(specs=[[{\"secondary_y\": True}]])\n",
    "\n",
    "fig.add_trace(go.Scatter(x=merged_df['date'], y=merged_df['normalized_mentions'], name=\"Mentions\"), secondary_y=False)\n",
    "fig.add_trace(go.Scatter(x=merged_df['date'], y=merged_df['normalized_price'], name=\"Price (USD)\"), secondary_y=True)\n",
    "\n",
    "fig.update_layout(\n",
    "    title_text=f\"Normalized Mentions and Price Over Time for '{ITEM}'\",\n",
    "    yaxis=dict(title=\"Normalized Mentions\", range=[0, 1]),\n",
    "    yaxis2=dict(title=\"Normalized Price\", range=[0, 1]),\n",
    "    xaxis=dict(title=\"Date\"),\n",
    "    legend=dict(orientation=\"h\", yanchor=\"bottom\", y=1.02, xanchor=\"right\", x=1)\n",
    ")\n",
    "\n",
    "fig.show()"
   ]
  },
  {
   "cell_type": "markdown",
   "metadata": {},
   "source": [
    "## Plotting smoothed mentions and smoothed volume"
   ]
  },
  {
   "cell_type": "code",
   "execution_count": null,
   "metadata": {},
   "outputs": [],
   "source": [
    "# Load data\n",
    "mentions_df = pd.read_csv(os.path.join(game_price_prediction_path, 'data', 'reddit_data', 'mention_all', ALL_MENTIONS_FILENAME))\n",
    "mentions_df['date'] = pd.to_datetime(mentions_df['date'])\n",
    "\n",
    "# Ensure df has a 'date' column\n",
    "if 'date' not in df.columns:\n",
    "    df = df.reset_index()\n",
    "\n",
    "# Merge mentions and volume data\n",
    "merged_df = pd.merge(mentions_df, df[['date', 'volume', 'price_usd']], on='date', how='outer').sort_values('date')\n",
    "merged_df = merged_df.fillna(method='ffill')\n",
    "\n",
    "# Smooth mentions and volume using a rolling average\n",
    "merged_df['smoothed_mentions'] = merged_df['num_mentions'].rolling(window=10).mean()\n",
    "merged_df['smoothed_volume'] = merged_df['volume'].rolling(window=10).mean()\n",
    "merged_df['smoothed_price'] = merged_df['price_usd'].rolling(window=10).mean()\n",
    "\n",
    "# Create figure with secondary y-axis\n",
    "fig = make_subplots(specs=[[{\"secondary_y\": True}]])\n",
    "\n",
    "# Add traces\n",
    "fig.add_trace(\n",
    "    go.Scatter(x=merged_df['date'], y=merged_df['smoothed_mentions'], name=\"Smoothed Mentions\", line=dict(color='blue')),\n",
    "    secondary_y=False,\n",
    ")\n",
    "\n",
    "fig.add_trace(\n",
    "    go.Scatter(x=merged_df['date'], y=merged_df['smoothed_volume'], name=\"Smoothed Volume\", line=dict(color='red')),\n",
    "    secondary_y=True,\n",
    ")\n",
    "\n",
    "# Update layout for better readability\n",
    "fig.update_layout(\n",
    "    title_text=f\"Smoothed Mentions and Volume Over Time for {ITEM}\",\n",
    "    legend=dict(orientation=\"h\", yanchor=\"bottom\", y=1.02, xanchor=\"right\", x=1),\n",
    "    margin=dict(l=50, r=50, t=80, b=50),\n",
    ")\n",
    "\n",
    "# x and y axis labels\n",
    "fig.update_yaxes(title_text=\"Smoothed Number of Mentions\", secondary_y=False, gridcolor='lightgrey')\n",
    "fig.update_yaxes(title_text=\"Smoothed Volume Traded\", secondary_y=True, gridcolor='lightgrey')\n",
    "fig.update_xaxes(title_text=\"Date\", gridcolor='lightgrey')\n",
    "\n",
    "# Show the figure\n",
    "fig.show()\n"
   ]
  },
  {
   "cell_type": "markdown",
   "metadata": {},
   "source": [
    "### Plotting smoothed mentions against smoothed volume"
   ]
  },
  {
   "cell_type": "code",
   "execution_count": null,
   "metadata": {},
   "outputs": [],
   "source": [
    "# Ensure necessary imports are present\n",
    "import plotly.graph_objects as go\n",
    "\n",
    "# Create the scatter plot\n",
    "fig = go.Figure()\n",
    "\n",
    "fig.add_trace(\n",
    "    go.Scatter(\n",
    "        x=merged_df['smoothed_volume'],\n",
    "        y=merged_df['smoothed_mentions'],\n",
    "        mode='markers',\n",
    "        marker=dict(size=8),\n",
    "        text=merged_df['date'],  # Add date information to hover text\n",
    "        hovertemplate='Smoothed Volume: %{x}<br>Smoothed Mentions: %{y}<br>Date: %{text}<extra></extra>'\n",
    "    )\n",
    ")\n",
    "\n",
    "# Update layout for better readability\n",
    "fig.update_layout(\n",
    "    title=f\"Smoothed Number of Mentions vs. Smoothed Volume for {ITEM}\",\n",
    "    xaxis_title=\"Smoothed Volume Traded\",\n",
    "    yaxis_title=\"Smoothed Number of Mentions\",\n",
    "    height=600,\n",
    "    width=800,\n",
    ")\n",
    "\n",
    "# Show the figure\n",
    "fig.show()"
   ]
  },
  {
   "cell_type": "markdown",
   "metadata": {},
   "source": [
    "## Correlation stats"
   ]
  },
  {
   "cell_type": "code",
   "execution_count": null,
   "metadata": {},
   "outputs": [],
   "source": [
    "# Ensure no missing values\n",
    "merged_df = merged_df.dropna(subset=['num_mentions', 'volume'])\n",
    "\n",
    "print(\"Item name: \" + ITEM)\n",
    "\n",
    "# 1. Spearman's Correlation\n",
    "spearman_corr, spearman_p = spearmanr(merged_df['num_mentions'], merged_df['volume'])\n",
    "print(f\"Spearman's correlation: {spearman_corr}, p-value: {spearman_p}\")\n",
    "\n",
    "# 2. Pearson's Correlation\n",
    "pearson_corr, pearson_p = pearsonr(merged_df['num_mentions'], merged_df['volume'])\n",
    "print(f\"Pearson's correlation: {pearson_corr}, p-value: {pearson_p}\")\n",
    "\n",
    "# 3. Stationarity Test (ADF)\n",
    "adf_result = adfuller(merged_df['volume'])\n",
    "print(f\"ADF Statistic: {adf_result[0]}, p-value: {adf_result[1]}\")"
   ]
  }
 ],
 "metadata": {
  "kernelspec": {
   "display_name": "base",
   "language": "python",
   "name": "python3"
  },
  "language_info": {
   "codemirror_mode": {
    "name": "ipython",
    "version": 3
   },
   "file_extension": ".py",
   "mimetype": "text/x-python",
   "name": "python",
   "nbconvert_exporter": "python",
   "pygments_lexer": "ipython3",
   "version": "3.12.2"
  }
 },
 "nbformat": 4,
 "nbformat_minor": 2
}
