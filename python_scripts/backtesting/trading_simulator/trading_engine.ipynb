{
 "cells": [
  {
   "cell_type": "markdown",
   "metadata": {},
   "source": [
    "### imports"
   ]
  },
  {
   "cell_type": "code",
   "execution_count": 1,
   "metadata": {},
   "outputs": [],
   "source": [
    "import pandas as pd\n",
    "import numpy as np\n",
    "import sys\n",
    "import os\n",
    "\n",
    "sys.path.insert(0, os.path.abspath(''))\n",
    "from python_scripts.utilities.api_calls import get_cookie_from_blob, fetch_items, fetch_item_to_df\n"
   ]
  },
  {
   "cell_type": "markdown",
   "metadata": {},
   "source": [
    "### running it back"
   ]
  },
  {
   "cell_type": "code",
   "execution_count": 2,
   "metadata": {},
   "outputs": [],
   "source": [
    "def simulate_portfolio(items, initial_balance, start_date, end_date):\n",
    "    start_date, end_date = pd.to_datetime(start_date), pd.to_datetime(end_date)\n",
    "    print(f\"\\nSimulation: {start_date.date()} to {end_date.date()}\")\n",
    "    print(f\"Initial Balance: ${initial_balance:,.2f}\\n\")\n",
    "\n",
    "    cookie = get_cookie_from_blob()\n",
    "    allocation = initial_balance / len(items)\n",
    "    final_value = uninvested = initial_balance\n",
    "\n",
    "    for item in items:\n",
    "        data = fetch_item_to_df(item, cookie)\n",
    "        if start_date in data.index and end_date in data.index:\n",
    "            buy, sell = data.loc[start_date, 'price_usd'], data.loc[end_date, 'price_usd']\n",
    "            if np.isfinite(buy) and np.isfinite(sell) and buy > 0:\n",
    "                quantity = int(allocation // buy)\n",
    "                invested = quantity * buy\n",
    "                uninvested -= invested\n",
    "                value = quantity * sell\n",
    "                final_value += value - invested\n",
    "                print(f\"{item}: Bought {quantity} @ ${buy:.2f}, Sold @ ${sell:.2f}, Net: ${value-invested:,.2f}\")\n",
    "            else:\n",
    "                print(f\"{item}: Invalid price data (Likely NaN)\")\n",
    "        else:\n",
    "            print(f\"{item}: Insufficient data\")\n",
    "\n",
    "    total_return = (final_value - initial_balance) / initial_balance\n",
    "    annual_return = (1 + total_return) ** (365 / (end_date - start_date).days) - 1\n",
    "\n",
    "    print(f\"\\nFinal Value: ${final_value:,.2f}\")\n",
    "    print(f\"Total Return: {total_return:.2%}\")\n",
    "    print(f\"Annualized Return: {annual_return:.2%}\")\n"
   ]
  },
  {
   "cell_type": "markdown",
   "metadata": {},
   "source": [
    "### input (usage)"
   ]
  },
  {
   "cell_type": "code",
   "execution_count": 3,
   "metadata": {},
   "outputs": [
    {
     "name": "stdout",
     "output_type": "stream",
     "text": [
      "\n",
      "Simulation: 2023-01-01 to 2024-01-01\n",
      "Initial Balance: $10,000.00\n",
      "\n",
      "Glove Case Key: Bought 209 @ $7.97, Sold @ $16.75, Net: $1,835.23\n",
      "Officer Jacques Beltram | Gendarmerie Nationale: Bought 649 @ $2.56, Sold @ $6.81, Net: $2,756.30\n",
      "Kilowatt Case: Insufficient data\n",
      "AK-47 | Blue Laminate (Factory New): Bought 251 @ $6.64, Sold @ $9.73, Net: $775.59\n",
      "Glove Case: Bought 688 @ $2.42, Sold @ $3.67, Net: $859.31\n",
      "★ StatTrak™ Paracord Knife | Case Hardened (Field-Tested): Invalid price data (Likely NaN)\n",
      "\n",
      "Final Value: $16,226.43\n",
      "Total Return: 62.26%\n",
      "Annualized Return: 62.26%\n"
     ]
    }
   ],
   "source": [
    "# Usage\n",
    "items = [\"Glove Case Key\", \"Officer Jacques Beltram | Gendarmerie Nationale\", \"Kilowatt Case\", \"AK-47 | Blue Laminate (Factory New)\", \"Glove Case\",\n",
    "         \"★ StatTrak™ Paracord Knife | Case Hardened (Field-Tested)\"]\n",
    "\n",
    "simulate_portfolio(items, 10000, '2023-01-01', '2024-01-01')\n"
   ]
  }
 ],
 "metadata": {
  "kernelspec": {
   "display_name": "base",
   "language": "python",
   "name": "python3"
  },
  "language_info": {
   "codemirror_mode": {
    "name": "ipython",
    "version": 3
   },
   "file_extension": ".py",
   "mimetype": "text/x-python",
   "name": "python",
   "nbconvert_exporter": "python",
   "pygments_lexer": "ipython3",
   "version": "3.11.5"
  }
 },
 "nbformat": 4,
 "nbformat_minor": 2
}
