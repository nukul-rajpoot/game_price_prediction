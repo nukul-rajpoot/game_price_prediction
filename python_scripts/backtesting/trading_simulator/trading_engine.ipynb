{
 "cells": [
  {
   "cell_type": "markdown",
   "metadata": {},
   "source": [
    "### imports"
   ]
  },
  {
   "cell_type": "code",
   "execution_count": 6,
   "metadata": {},
   "outputs": [],
   "source": [
    "import pandas as pd\n",
    "import numpy as np\n",
    "import sys\n",
    "import os\n",
    "\n",
    "# NOTE: running on Mac (first line) //  macbook (second line)\n",
    "sys.path.insert(0, os.path.abspath(''))\n",
    "sys.path.insert(0, os.path.abspath(os.path.join(os.getcwd(), '..', '..', '..')))\n",
    "\n",
    "from python_scripts.utilities.api_calls import get_cookie_from_blob, fetch_item_to_df\n",
    "\n"
   ]
  },
  {
   "cell_type": "markdown",
   "metadata": {},
   "source": [
    "### loading data"
   ]
  },
  {
   "cell_type": "code",
   "execution_count": 7,
   "metadata": {},
   "outputs": [],
   "source": [
    "def initial_portfolio(initial_balance, items):\n",
    "    portfolio_info = {\n",
    "        'initial_balance': initial_balance,\n",
    "        'current_balance': initial_balance,\n",
    "        'items': items,\n",
    "        'allocations': {item: 1/len(items) for item in items},\n",
    "        'holdings': {item: 0 for item in items},\n",
    "    }\n",
    "    \n",
    "    item_data = {}\n",
    "    dailyCookie = get_cookie_from_blob()\n",
    "    for item in items:\n",
    "        item_data[item] = fetch_item_to_df(item, dailyCookie)\n",
    "\n",
    "    return portfolio_info, item_data\n"
   ]
  },
  {
   "cell_type": "markdown",
   "metadata": {},
   "source": [
    "### input (usage)"
   ]
  },
  {
   "cell_type": "code",
   "execution_count": 8,
   "metadata": {},
   "outputs": [],
   "source": [
    "# functions for simulating a portfolio\n",
    "\n",
    "def check_thresholds(portfolio_info, item_data, date, stop_loss, gain_threshold):\n",
    "    for item in portfolio_info['valid_items']:\n",
    "        if date in item_data[item].index and np.isfinite(item_data[item].loc[date, 'price_usd']):\n",
    "            buy_price = portfolio_info[f'{item}_buy_price']\n",
    "            current_price = item_data[item].loc[date, 'price_usd']\n",
    "            change_percentage = (current_price - buy_price) / buy_price\n",
    "            \n",
    "            if change_percentage <= -stop_loss or change_percentage >= gain_threshold:\n",
    "                return True\n",
    "    return False\n",
    "\n",
    "\n",
    "def buy_items(portfolio_info, item_data, date):\n",
    "    remaining_balance = portfolio_info['initial_balance']\n",
    "    valid_items = []\n",
    "\n",
    "    for item, allocation in portfolio_info['allocations'].items():\n",
    "        if date in item_data[item].index and np.isfinite(item_data[item].loc[date, 'price_usd']):\n",
    "            amount_to_spend = portfolio_info['initial_balance'] * allocation\n",
    "            price = item_data[item].loc[date, 'price_usd']\n",
    "            quantity = int(amount_to_spend // price)  # Integer division for whole number of items\n",
    "            cost = quantity * price\n",
    "            remaining_balance -= cost\n",
    "            portfolio_info['holdings'][item] = quantity\n",
    "            valid_items.append(item)\n",
    "            portfolio_info[f'{item}_buy_price'] = price  # Store buy price for later use\n",
    "        else:\n",
    "            print(f\"{item}: Insufficient data\")\n",
    "\n",
    "    portfolio_info['current_balance'] = remaining_balance\n",
    "    portfolio_info['valid_items'] = valid_items\n",
    "\n",
    "\n",
    "def sell_items(portfolio_info, item_data, date):\n",
    "    total_value = portfolio_info['current_balance']\n",
    "    for item in portfolio_info['valid_items']:\n",
    "        if date in item_data[item].index and np.isfinite(item_data[item].loc[date, 'price_usd']):\n",
    "            quantity = portfolio_info['holdings'][item]\n",
    "            buy_price = portfolio_info[f'{item}_buy_price']\n",
    "            sell_price = item_data[item].loc[date, 'price_usd']\n",
    "            value = quantity * sell_price\n",
    "            total_value += value\n",
    "            net_profit = value - (quantity * buy_price)\n",
    "            print(f\"{item}: Bought {quantity} @ ${buy_price:.2f}, Sold @ ${sell_price:.2f}, Net: ${net_profit:,.2f}\")\n",
    "        else:\n",
    "            print(f\"{item}: Insufficient data\")\n",
    "    return total_value\n",
    "\n",
    "\n",
    "def simulate_portfolio(initial_balance, items, start_date, end_date, stop_loss=None, gain_threshold=None):\n",
    "    portfolio_info, item_data = initial_portfolio(initial_balance, items)\n",
    "    \n",
    "    portfolio_info['start_date'] = pd.to_datetime(start_date)\n",
    "    portfolio_info['present_date'] = pd.to_datetime(end_date)\n",
    "    \n",
    "    print(f\"\\nSimulation: {portfolio_info['start_date'].date()} to {portfolio_info['present_date'].date()}\")\n",
    "    print(f\"Initial Balance: ${portfolio_info['initial_balance']:,.2f}\\n\")\n",
    "    \n",
    "    buy_items(portfolio_info, item_data, portfolio_info['start_date'])\n",
    "    \n",
    "    if stop_loss is not None or gain_threshold is not None:\n",
    "        date_range = pd.date_range(start=portfolio_info['start_date'], end=portfolio_info['present_date'])\n",
    "        for date in date_range:\n",
    "            if check_thresholds(portfolio_info, item_data, date, stop_loss, gain_threshold):\n",
    "                final_value = sell_items(portfolio_info, item_data, date)\n",
    "                return calculate_performance(portfolio_info, final_value)\n",
    "    \n",
    "    final_value = sell_items(portfolio_info, item_data, portfolio_info['present_date'])\n",
    "    return calculate_performance(portfolio_info, final_value)\n",
    "\n",
    "\n",
    "def calculate_performance(portfolio_info, final_value):\n",
    "    initial_balance = portfolio_info['initial_balance']\n",
    "    total_return = (final_value - initial_balance) / initial_balance\n",
    "    days_held = (portfolio_info['present_date'] - portfolio_info['start_date']).days\n",
    "    annualized_return = (1 + total_return) ** (365 / days_held) - 1\n",
    "\n",
    "    return {\n",
    "        'initial_balance': initial_balance,\n",
    "        'final_value': final_value,\n",
    "        'total_return': total_return,\n",
    "        'annualized_return': annualized_return,\n",
    "        'days_held': days_held\n",
    "    }\n"
   ]
  },
  {
   "cell_type": "markdown",
   "metadata": {},
   "source": [
    "#### input (usage)"
   ]
  },
  {
   "cell_type": "code",
   "execution_count": 9,
   "metadata": {},
   "outputs": [
    {
     "name": "stdout",
     "output_type": "stream",
     "text": [
      "\n",
      "Simulation: 2023-01-01 to 2024-06-01\n",
      "Initial Balance: $10,000.00\n",
      "\n",
      "Kilowatt Case: Insufficient data\n",
      "★ StatTrak™ Paracord Knife | Case Hardened (Field-Tested): Insufficient data\n",
      "Glove Case Key: Bought 208 @ $7.98, Sold @ $12.69, Net: $978.02\n",
      "Officer Jacques Beltram | Gendarmerie Nationale: Bought 648 @ $2.57, Sold @ $9.05, Net: $4,197.10\n",
      "AK-47 | Blue Laminate (Factory New): Bought 250 @ $6.65, Sold @ $11.82, Net: $1,293.00\n",
      "Glove Case: Bought 687 @ $2.43, Sold @ $5.80, Net: $2,318.62\n",
      "\n",
      "Initial Balance: $10000.00\n",
      "Final Value: $18786.74\n",
      "Total Return: 87.87%\n",
      "Annualized Return: 56.08%\n",
      "Days Held: 517\n"
     ]
    }
   ],
   "source": [
    "# Usage\n",
    "items = [\"Glove Case Key\", \"Officer Jacques Beltram | Gendarmerie Nationale\", \"Kilowatt Case\", \"AK-47 | Blue Laminate (Factory New)\", \"Glove Case\", \"★ StatTrak™ Paracord Knife | Case Hardened (Field-Tested)\"]\n",
    "initial_balance = 10000\n",
    "start_date = '2023-01-01'\n",
    "end_date = '2024-06-01'\n",
    "stop_loss_percentage = 100  # 10% stop loss\n",
    "gain_threshold_percentage = 100  # 20% gain threshold\n",
    "\n",
    "performance = simulate_portfolio(initial_balance, items, start_date, end_date, stop_loss=stop_loss_percentage, gain_threshold=gain_threshold_percentage)\n",
    "\n",
    "print(f\"\\nInitial Balance: ${performance['initial_balance']:.2f}\")\n",
    "print(f\"Final Value: ${performance['final_value']:.2f}\")\n",
    "print(f\"Total Return: {performance['total_return']:.2%}\")\n",
    "print(f\"Annualized Return: {performance['annualized_return']:.2%}\")\n",
    "print(f\"Days Held: {performance['days_held']}\")"
   ]
  }
 ],
 "metadata": {
  "kernelspec": {
   "display_name": "base",
   "language": "python",
   "name": "python3"
  },
  "language_info": {
   "codemirror_mode": {
    "name": "ipython",
    "version": 3
   },
   "file_extension": ".py",
   "mimetype": "text/x-python",
   "name": "python",
   "nbconvert_exporter": "python",
   "pygments_lexer": "ipython3",
   "version": "3.11.5"
  }
 },
 "nbformat": 4,
 "nbformat_minor": 2
}
