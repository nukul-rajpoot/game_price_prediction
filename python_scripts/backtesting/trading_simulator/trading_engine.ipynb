{
 "cells": [
  {
   "cell_type": "markdown",
   "metadata": {},
   "source": [
    "### imports"
   ]
  },
  {
   "cell_type": "code",
   "execution_count": 1,
   "metadata": {},
   "outputs": [],
   "source": [
    "import pandas as pd\n",
    "import numpy as np\n",
    "import sys\n",
    "import os\n",
    "\n",
    "sys.path.insert(0, os.path.abspath(''))\n",
    "from python_scripts.utilities.api_calls import get_cookie_from_blob, fetch_items, fetch_item_to_df\n"
   ]
  },
  {
   "cell_type": "markdown",
   "metadata": {},
   "source": [
    "### setting portfolio information"
   ]
  },
  {
   "cell_type": "code",
   "execution_count": 8,
   "metadata": {},
   "outputs": [
    {
     "name": "stdout",
     "output_type": "stream",
     "text": [
      "Data loaded for AK-47 | Redline (Field-Tested)\n",
      "Data loaded for AWP | Asiimov (Field-Tested)\n",
      "Data loaded for M4A4 | Neo-Noir (Factory New)\n",
      "\n",
      "AK-47 | Redline (Field-Tested):\n",
      "Data shape: (3851, 2)\n",
      "Date range: 2014-02-21 00:00:00 to 2024-09-06 00:00:00\n",
      "            price_usd  volume\n",
      "date                         \n",
      "2014-02-21     31.477     198\n",
      "2014-02-22     26.668     225\n",
      "2014-02-23     25.200     183\n",
      "2014-02-24     27.570     128\n",
      "2014-02-25     31.120      90\n",
      "\n",
      "AWP | Asiimov (Field-Tested):\n",
      "Data shape: (3851, 2)\n",
      "Date range: 2014-02-21 00:00:00 to 2024-09-06 00:00:00\n",
      "            price_usd  volume\n",
      "date                         \n",
      "2014-02-21    125.620      16\n",
      "2014-02-22     79.906      38\n",
      "2014-02-23     87.730      16\n",
      "2014-02-24     97.697      12\n",
      "2014-02-25    110.601      13\n",
      "\n",
      "M4A4 | Neo-Noir (Factory New):\n",
      "Data shape: (2395, 2)\n",
      "Date range: 2018-02-16 00:00:00 to 2024-09-06 00:00:00\n",
      "            price_usd  volume\n",
      "date                         \n",
      "2018-02-16    286.243       8\n",
      "2018-02-17    241.857      12\n",
      "2018-02-18    216.118      11\n",
      "2018-02-19    195.488       7\n",
      "2018-02-20    208.618      10\n"
     ]
    }
   ],
   "source": [
    "def initial_portfolio():\n",
    "    initial_balance = 10000  \n",
    "    # item selection (chose your own in custom_items or leave def blank for default items)\n",
    "    custom_items = [\"AK-47 | Redline (Field-Tested)\", \"AWP | Asiimov (Field-Tested)\", \"M4A4 | Neo-Noir (Factory New)\"]\n",
    "    selected_items = fetch_items(custom_items)\n",
    "    \n",
    "    # Set allocation. (equal weight)\n",
    "    allocations = {item: 1/len(selected_items) for item in selected_items}\n",
    "    \n",
    "    # Dictionary for hold portfolio info\n",
    "    portfolio_info = {\n",
    "        'initial_balance': initial_balance,\n",
    "        'current_balance': initial_balance,\n",
    "        'items': selected_items,\n",
    "        'allocations': allocations,\n",
    "        'holdings': {item: 0 for item in selected_items},\n",
    "    }\n",
    "    \n",
    "    # Load data for items in portfolio \n",
    "    item_data = {}\n",
    "    dailyCookie = get_cookie_from_blob()\n",
    "    for item in portfolio_info['items']:\n",
    "        item_data[item] = fetch_item_to_df(item, dailyCookie)\n",
    "        print(f\"Data loaded for {item}\")\n",
    "\n",
    "    return portfolio_info, item_data\n",
    "\n",
    "portfolio_info, item_data = initial_portfolio()\n",
    "# print(\"Portfolio Info:\", portfolio_info)\n",
    "\n",
    "# Item Data info\n",
    "for item, data in item_data.items():\n",
    "    print(f\"\\n{item}:\")\n",
    "    print(f\"Data shape: {data.shape}\")\n",
    "    print(f\"Date range: {data.index.min()} to {data.index.max()}\")\n",
    "    print(data.head())\n"
   ]
  },
  {
   "cell_type": "markdown",
   "metadata": {},
   "source": [
    "### running it back"
   ]
  },
  {
   "cell_type": "code",
   "execution_count": 12,
   "metadata": {},
   "outputs": [
    {
     "name": "stdout",
     "output_type": "stream",
     "text": [
      "Initial Balance: $10000.00\n",
      "Final Value: $10769.65\n",
      "Total Return: 7.70%\n",
      "Annualized Return: 7.70%\n",
      "Days Held: 365\n"
     ]
    }
   ],
   "source": [
    "# Usage\n",
    "start_date = '2023-01-01'  # Define a start date\n",
    "end_date = '2024-01-01'  # Example end date\n",
    "performance = simulate_portfolio(portfolio_info, item_data, start_date, end_date)\n",
    "\n",
    "\n",
    "def buy_items(portfolio_info, item_data, date):\n",
    "    remaining_balance = portfolio_info['initial_balance']\n",
    "\n",
    "    for item, allocation in portfolio_info['allocations'].items():\n",
    "        amount_to_spend = portfolio_info['initial_balance'] * allocation\n",
    "        price = item_data[item].loc[date, 'price_usd']\n",
    "        quantity = amount_to_spend // price  # Integer division for whole number of items\n",
    "        cost = quantity * price\n",
    "        remaining_balance -= cost\n",
    "        portfolio_info['holdings'][item] = quantity\n",
    "    portfolio_info['current_balance'] = remaining_balance\n",
    "\n",
    "def sell_items(portfolio_info, item_data, date):\n",
    "    total_value = portfolio_info['current_balance']\n",
    "    for item, quantity in portfolio_info['holdings'].items():\n",
    "        price = item_data[item].loc[date, 'price_usd']\n",
    "        value = quantity * price\n",
    "        total_value += value\n",
    "    return total_value\n",
    "\n",
    "def simulate_portfolio(portfolio_info, item_data, start_date, end_date):\n",
    "    # Set start and end dates\n",
    "    portfolio_info['start_date'] = pd.to_datetime(start_date)\n",
    "    portfolio_info['present_date'] = pd.to_datetime(end_date)\n",
    "    \n",
    "    # BUY items at start date\n",
    "    buy_items(portfolio_info, item_data, portfolio_info['start_date'])\n",
    "    \n",
    "    # SELL items at end date\n",
    "    final_value = sell_items(portfolio_info, item_data, portfolio_info['present_date'])\n",
    "    \n",
    "    return calculate_performance(portfolio_info, final_value)\n",
    "\n",
    "def calculate_performance(portfolio_info, final_value):\n",
    "    initial_balance = portfolio_info['initial_balance']\n",
    "    total_return = (final_value - initial_balance) / initial_balance\n",
    "    days_held = (portfolio_info['present_date'] - portfolio_info['start_date']).days\n",
    "    annualized_return = (1 + total_return) ** (365 / days_held) - 1\n",
    "\n",
    "    return {\n",
    "        'initial_balance': initial_balance,\n",
    "        'final_value': final_value,\n",
    "        'total_return': total_return,\n",
    "        'annualized_return': annualized_return,\n",
    "        'days_held': days_held\n",
    "    }\n",
    "\n",
    "\n",
    "print(f\"Initial Balance: ${performance['initial_balance']:.2f}\")\n",
    "print(f\"Final Value: ${performance['final_value']:.2f}\")\n",
    "print(f\"Total Return: {performance['total_return']:.2%}\")\n",
    "print(f\"Annualized Return: {performance['annualized_return']:.2%}\")\n",
    "print(f\"Days Held: {performance['days_held']}\")"
   ]
  }
 ],
 "metadata": {
  "kernelspec": {
   "display_name": "base",
   "language": "python",
   "name": "python3"
  },
  "language_info": {
   "codemirror_mode": {
    "name": "ipython",
    "version": 3
   },
   "file_extension": ".py",
   "mimetype": "text/x-python",
   "name": "python",
   "nbconvert_exporter": "python",
   "pygments_lexer": "ipython3",
   "version": "3.11.5"
  }
 },
 "nbformat": 4,
 "nbformat_minor": 2
}
